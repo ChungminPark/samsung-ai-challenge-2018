{
 "cells": [
  {
   "cell_type": "code",
   "execution_count": 34,
   "metadata": {},
   "outputs": [],
   "source": [
    "import numpy as np\n",
    "import pandas as pd\n",
    "import keras\n",
    "from keras.layers import Dense, Input, LSTM, concatenate, Dropout, Conv2D, MaxPool2D, Embedding, Reshape, Conv1D\n",
    "from keras.models import Sequential, Model\n",
    "from keras.utils import np_utils\n",
    "from keras.callbacks import ReduceLROnPlateau, ModelCheckpoint, EarlyStopping\n",
    "from keras import metrics\n",
    "from keras import backend as K"
   ]
  },
  {
   "cell_type": "code",
   "execution_count": 2,
   "metadata": {},
   "outputs": [],
   "source": [
    "categorical = ['주야', '요일', '발생지시도', '발생지시군구', '사고유형_대분류', '사고유형_중분류', '법규위반', \n",
    "            '도로형태_대분류', '도로형태', '당사자종별_1당_대분류', '당사자종별_2당_대분류']\n",
    "numerical = ['사상자수', '사망자수', '중상자수', '경상자수','부상신고자수']\n",
    "\n",
    "x_train_num = pd.read_csv('./교통사망사고정보/Kor_Train_교통사망사고정보(12.1~17.6).csv',encoding='cp949', usecols=numerical)\n",
    "\n",
    "x_train_cat = pd.read_csv('./교통사망사고정보/Kor_Train_교통사망사고정보(12.1~17.6).csv',encoding='cp949', usecols=categorical)\n",
    "\n",
    "x_test_num = pd.read_csv('./test_kor.csv',encoding='cp949', usecols=numerical)\n",
    "\n",
    "x_test_cat = pd.read_csv('./test_kor.csv',encoding='cp949', usecols=categorical)"
   ]
  },
  {
   "cell_type": "code",
   "execution_count": 3,
   "metadata": {},
   "outputs": [],
   "source": [
    "all_data = pd.concat((x_test_cat.dropna(), x_train_cat))\n",
    "# for col in all_data.select_dtypes(include=[np.object]).columns:\n",
    "#     print(col, all_data[col].unique())"
   ]
  },
  {
   "cell_type": "code",
   "execution_count": 4,
   "metadata": {},
   "outputs": [
    {
     "name": "stderr",
     "output_type": "stream",
     "text": [
      "/home/iron/.local/lib/python3.5/site-packages/ipykernel_launcher.py:2: FutureWarning: specifying 'categories' or 'ordered' in .astype() is deprecated; pass a CategoricalDtype instead\n",
      "  \n",
      "/home/iron/.local/lib/python3.5/site-packages/ipykernel_launcher.py:3: FutureWarning: specifying 'categories' or 'ordered' in .astype() is deprecated; pass a CategoricalDtype instead\n",
      "  This is separate from the ipykernel package so we can avoid doing imports until\n"
     ]
    }
   ],
   "source": [
    "for column in all_data.select_dtypes(include=[np.object]).columns:\n",
    "    x_train_cat[column] = x_train_cat[column].astype('category', categories = all_data[column].unique())\n",
    "    x_test_cat[column] = x_test_cat[column].astype('category', categories = all_data[column].unique())"
   ]
  },
  {
   "cell_type": "code",
   "execution_count": 5,
   "metadata": {},
   "outputs": [],
   "source": [
    "x_train_cat = pd.get_dummies(data=x_train_cat)\n",
    "x_test_cat = pd.get_dummies(data=x_test_cat)"
   ]
  },
  {
   "cell_type": "code",
   "execution_count": 6,
   "metadata": {},
   "outputs": [],
   "source": [
    "Case1 = ['사망자수','사상자수','경상자수']\n",
    "Case2 = ['사상자수', '중상자수', '부상신고자수']\n",
    "Case3 = ['사상자수', '중상자수', '경상자수' ]\n",
    "Case4 = ['사망자수', '사상자수', '중상자수' ]"
   ]
  },
  {
   "cell_type": "code",
   "execution_count": 35,
   "metadata": {},
   "outputs": [],
   "source": [
    "# 수치형 데이터 Case 함수\n",
    "\n",
    "def numeric_case(start, end):\n",
    "    \n",
    "    K.clear_session()\n",
    "    \n",
    "    # Train Data\n",
    "    X = x_train_num.drop(columns=['사상자수']).values\n",
    "    print(len(X[0]))\n",
    "    \n",
    "    # Test Data\n",
    "    X_test = x_test_num.drop(columns=['사상자수']).values\n",
    "    \n",
    "    # Label Data\n",
    "    Y = x_train_num[['사상자수']].values\n",
    "    print(len(Y[0]))\n",
    "    \n",
    "#     X = np.reshape(X, (X.shape[0], X.shape[1], 1))\n",
    "#     X_test = np.reshape(X_test, (X_test.shape[0], X_test.shape[1], 1))\n",
    "    \n",
    "#     # Model define\n",
    "\n",
    "#     num_input = Input(shape=( X.shape[1], 1), name='num_input')\n",
    "#     x = LSTM(512, return_sequences=True)(num_input)\n",
    "#     x = Dense((int(len(X[0] + len(Y[0])) * 2 /3)), activation='relu')(x)\n",
    "#     x = Dropout(0.3)(x)\n",
    "#     x = Dense((int(len(X[0] + len(Y[0])) * 2 /3)), activation='relu')(x)\n",
    "#     x = Dropout(0.3)(x)\n",
    "#     x = Dense((int(len(X[0] + len(Y[0])) * 2 /3)), activation='relu')(x)\n",
    "#     x = Dropout(0.3)(x)\n",
    "#     num_output = Dense(len(Y[0]), name='num_output')(x)\n",
    "    \n",
    "    \n",
    "    # Model define\n",
    "    num_input = Input(shape=(len(X[0]),), name='num_input')\n",
    "    x = Dense((int(len(X[0] + len(Y[0])) * 2 /3)), activation='relu')(num_input)\n",
    "    x = Dropout(0.3)(x)\n",
    "    x = Dense((int(len(X[0] + len(Y[0])) * 2 /3)), activation='relu')(x)\n",
    "    x = Dropout(0.3)(x)\n",
    "    x = Dense((int(len(X[0] + len(Y[0])) * 2 /3)), activation='relu')(x)\n",
    "    x = Dropout(0.3)(x)\n",
    "    num_output = Dense(len(Y[0]), name='num_output')(x)\n",
    "\n",
    "    model = Model(inputs=num_input, outputs=num_output)\n",
    "\n",
    "    model.compile(optimizer='adam',\n",
    "                  loss='mse',\n",
    "                  metrics=['accuracy'])\n",
    "\n",
    "    learning_rate_reduction = ReduceLROnPlateau(monitor='val_acc', patience=25, verbose=1, factor=0.5, min_lr=0.00000001)\n",
    "\n",
    "    callbacks = [\n",
    "        learning_rate_reduction, # learning_rate를 점차 감소시킴으로서 최적값에 접근하는 방식\n",
    "        EarlyStopping('val_loss', patience=15)# val_loss이 최적값에서 멀어지는 순간 epoch가 남아도 학습 중지\n",
    "    ]\n",
    "    \n",
    "    history = model.fit(X, Y, epochs=50, batch_size=128, callbacks=callbacks, validation_split=0.2 )\n",
    "    \n",
    "    \n",
    "    # make a prediction\n",
    "    Y_test = model.predict(X_test[start:end+1])\n",
    "    \n",
    "    del model\n",
    "    \n",
    "    return Y_test"
   ]
  },
  {
   "cell_type": "code",
   "execution_count": 36,
   "metadata": {},
   "outputs": [
    {
     "name": "stdout",
     "output_type": "stream",
     "text": [
      "4\n",
      "1\n",
      "Train on 20029 samples, validate on 5008 samples\n",
      "Epoch 1/50\n",
      "20029/20029 [==============================] - 1s 43us/step - loss: 6.2879 - acc: 0.0000e+00 - val_loss: 7.9028 - val_acc: 0.0000e+00\n",
      "Epoch 2/50\n",
      "20029/20029 [==============================] - 0s 19us/step - loss: 5.7712 - acc: 0.0000e+00 - val_loss: 7.4789 - val_acc: 0.0000e+00\n",
      "Epoch 3/50\n",
      "20029/20029 [==============================] - 0s 18us/step - loss: 5.4569 - acc: 0.0000e+00 - val_loss: 7.1189 - val_acc: 0.0000e+00\n",
      "Epoch 4/50\n",
      "20029/20029 [==============================] - 0s 18us/step - loss: 5.0892 - acc: 0.3807 - val_loss: 6.8135 - val_acc: 0.7292\n",
      "Epoch 5/50\n",
      "20029/20029 [==============================] - 0s 19us/step - loss: 4.8234 - acc: 0.7379 - val_loss: 6.5582 - val_acc: 0.7292\n",
      "Epoch 6/50\n",
      "20029/20029 [==============================] - 0s 19us/step - loss: 4.6055 - acc: 0.7379 - val_loss: 6.3460 - val_acc: 0.7292\n",
      "Epoch 7/50\n",
      "20029/20029 [==============================] - 0s 19us/step - loss: 4.4294 - acc: 0.7379 - val_loss: 6.1729 - val_acc: 0.7292\n",
      "Epoch 8/50\n",
      "20029/20029 [==============================] - 0s 19us/step - loss: 4.3193 - acc: 0.7379 - val_loss: 6.0304 - val_acc: 0.7292\n",
      "Epoch 9/50\n",
      "20029/20029 [==============================] - 0s 19us/step - loss: 4.1714 - acc: 0.7379 - val_loss: 5.9188 - val_acc: 0.7292\n",
      "Epoch 10/50\n",
      "20029/20029 [==============================] - 0s 20us/step - loss: 4.0836 - acc: 0.7379 - val_loss: 5.8309 - val_acc: 0.7292\n",
      "Epoch 11/50\n",
      "20029/20029 [==============================] - 0s 20us/step - loss: 4.0156 - acc: 0.7379 - val_loss: 5.7633 - val_acc: 0.7292\n",
      "Epoch 12/50\n",
      "20029/20029 [==============================] - 0s 19us/step - loss: 3.9686 - acc: 0.7379 - val_loss: 5.7124 - val_acc: 0.7292\n",
      "Epoch 13/50\n",
      "20029/20029 [==============================] - 0s 19us/step - loss: 3.9510 - acc: 0.7379 - val_loss: 5.6744 - val_acc: 0.7292\n",
      "Epoch 14/50\n",
      "20029/20029 [==============================] - 0s 20us/step - loss: 3.9134 - acc: 0.7379 - val_loss: 5.6471 - val_acc: 0.7292\n",
      "Epoch 15/50\n",
      "20029/20029 [==============================] - 0s 19us/step - loss: 3.8899 - acc: 0.7379 - val_loss: 5.6283 - val_acc: 0.7292\n",
      "Epoch 16/50\n",
      "20029/20029 [==============================] - 0s 18us/step - loss: 3.8776 - acc: 0.7379 - val_loss: 5.6149 - val_acc: 0.7292\n",
      "Epoch 17/50\n",
      "20029/20029 [==============================] - 0s 22us/step - loss: 3.8707 - acc: 0.1960 - val_loss: 5.6058 - val_acc: 0.1398\n",
      "Epoch 18/50\n",
      "20029/20029 [==============================] - 0s 19us/step - loss: 3.8664 - acc: 0.1416 - val_loss: 5.5997 - val_acc: 0.1398\n",
      "Epoch 19/50\n",
      "20029/20029 [==============================] - 0s 21us/step - loss: 3.8641 - acc: 0.1416 - val_loss: 5.5955 - val_acc: 0.1398\n",
      "Epoch 20/50\n",
      "20029/20029 [==============================] - 0s 19us/step - loss: 3.8627 - acc: 0.1416 - val_loss: 5.5929 - val_acc: 0.1398\n",
      "Epoch 21/50\n",
      "20029/20029 [==============================] - 0s 20us/step - loss: 3.8621 - acc: 0.1416 - val_loss: 5.5909 - val_acc: 0.1398\n",
      "Epoch 22/50\n",
      "20029/20029 [==============================] - 0s 19us/step - loss: 3.8617 - acc: 0.1416 - val_loss: 5.5897 - val_acc: 0.1398\n",
      "Epoch 23/50\n",
      "20029/20029 [==============================] - 0s 21us/step - loss: 3.8615 - acc: 0.1416 - val_loss: 5.5891 - val_acc: 0.1398\n",
      "Epoch 24/50\n",
      "20029/20029 [==============================] - 0s 21us/step - loss: 3.8615 - acc: 0.1416 - val_loss: 5.5885 - val_acc: 0.1398\n",
      "Epoch 25/50\n",
      "20029/20029 [==============================] - 0s 19us/step - loss: 3.8615 - acc: 0.1416 - val_loss: 5.5883 - val_acc: 0.1398\n",
      "Epoch 26/50\n",
      "20029/20029 [==============================] - 0s 18us/step - loss: 3.8615 - acc: 0.1416 - val_loss: 5.5881 - val_acc: 0.1398\n",
      "Epoch 27/50\n",
      "20029/20029 [==============================] - 0s 19us/step - loss: 3.8615 - acc: 0.1416 - val_loss: 5.5882 - val_acc: 0.1398\n",
      "Epoch 28/50\n",
      "20029/20029 [==============================] - 0s 18us/step - loss: 3.8615 - acc: 0.1416 - val_loss: 5.5881 - val_acc: 0.1398\n",
      "Epoch 29/50\n",
      "20029/20029 [==============================] - 0s 20us/step - loss: 3.8615 - acc: 0.1416 - val_loss: 5.5880 - val_acc: 0.1398\n",
      "\n",
      "Epoch 00029: ReduceLROnPlateau reducing learning rate to 0.0005000000237487257.\n",
      "Epoch 30/50\n",
      "20029/20029 [==============================] - 0s 20us/step - loss: 3.8614 - acc: 0.1416 - val_loss: 5.5878 - val_acc: 0.1398\n",
      "Epoch 31/50\n",
      "20029/20029 [==============================] - 0s 18us/step - loss: 3.8615 - acc: 0.1416 - val_loss: 5.5879 - val_acc: 0.1398\n",
      "Epoch 32/50\n",
      "20029/20029 [==============================] - 0s 18us/step - loss: 3.8614 - acc: 0.1416 - val_loss: 5.5879 - val_acc: 0.1398\n",
      "Epoch 33/50\n",
      "20029/20029 [==============================] - 0s 19us/step - loss: 3.8614 - acc: 0.1416 - val_loss: 5.5879 - val_acc: 0.1398\n",
      "Epoch 34/50\n",
      "20029/20029 [==============================] - 0s 19us/step - loss: 3.8614 - acc: 0.1416 - val_loss: 5.5879 - val_acc: 0.1398\n",
      "Epoch 35/50\n",
      "20029/20029 [==============================] - 0s 21us/step - loss: 3.8614 - acc: 0.1416 - val_loss: 5.5880 - val_acc: 0.1398\n",
      "Epoch 36/50\n",
      "20029/20029 [==============================] - 0s 19us/step - loss: 3.8614 - acc: 0.1416 - val_loss: 5.5879 - val_acc: 0.1398\n",
      "Epoch 37/50\n",
      "20029/20029 [==============================] - 0s 20us/step - loss: 3.8614 - acc: 0.1416 - val_loss: 5.5880 - val_acc: 0.1398\n",
      "Epoch 38/50\n",
      "20029/20029 [==============================] - 0s 21us/step - loss: 3.8615 - acc: 0.1416 - val_loss: 5.5878 - val_acc: 0.1398\n",
      "Epoch 39/50\n",
      "20029/20029 [==============================] - 0s 20us/step - loss: 3.8615 - acc: 0.1416 - val_loss: 5.5878 - val_acc: 0.1398\n",
      "Epoch 40/50\n",
      "20029/20029 [==============================] - 0s 18us/step - loss: 3.8614 - acc: 0.1416 - val_loss: 5.5878 - val_acc: 0.1398\n",
      "Epoch 41/50\n",
      "20029/20029 [==============================] - 0s 19us/step - loss: 3.8615 - acc: 0.1416 - val_loss: 5.5877 - val_acc: 0.1398\n",
      "Epoch 42/50\n",
      "20029/20029 [==============================] - 0s 21us/step - loss: 3.8614 - acc: 0.1416 - val_loss: 5.5878 - val_acc: 0.1398\n",
      "Epoch 43/50\n",
      "20029/20029 [==============================] - 0s 19us/step - loss: 3.8614 - acc: 0.1416 - val_loss: 5.5879 - val_acc: 0.1398\n",
      "Epoch 44/50\n",
      "20029/20029 [==============================] - 0s 18us/step - loss: 3.8615 - acc: 0.1416 - val_loss: 5.5880 - val_acc: 0.1398\n",
      "Epoch 45/50\n",
      "20029/20029 [==============================] - 0s 18us/step - loss: 3.8615 - acc: 0.1416 - val_loss: 5.5877 - val_acc: 0.1398\n",
      "Epoch 46/50\n",
      "20029/20029 [==============================] - 0s 20us/step - loss: 3.8615 - acc: 0.1416 - val_loss: 5.5878 - val_acc: 0.1398\n",
      "Epoch 47/50\n",
      "20029/20029 [==============================] - 0s 19us/step - loss: 3.8615 - acc: 0.1416 - val_loss: 5.5881 - val_acc: 0.1398\n",
      "Epoch 48/50\n",
      "20029/20029 [==============================] - 0s 18us/step - loss: 3.8614 - acc: 0.1416 - val_loss: 5.5881 - val_acc: 0.1398\n",
      "Epoch 49/50\n",
      "20029/20029 [==============================] - 0s 19us/step - loss: 3.8614 - acc: 0.1416 - val_loss: 5.5877 - val_acc: 0.1398\n",
      "Epoch 50/50\n",
      "20029/20029 [==============================] - 0s 19us/step - loss: 3.8615 - acc: 0.1416 - val_loss: 5.5880 - val_acc: 0.1398\n"
     ]
    },
    {
     "data": {
      "text/plain": [
       "array([[1.6077368],\n",
       "       [1.6077368]], dtype=float32)"
      ]
     },
     "execution_count": 36,
     "metadata": {},
     "output_type": "execute_result"
    }
   ],
   "source": [
    "numeric_case(0,1)"
   ]
  },
  {
   "cell_type": "code",
   "execution_count": null,
   "metadata": {},
   "outputs": [],
   "source": []
  },
  {
   "cell_type": "code",
   "execution_count": null,
   "metadata": {},
   "outputs": [],
   "source": []
  }
 ],
 "metadata": {
  "kernelspec": {
   "display_name": "Python 3",
   "language": "python",
   "name": "python3"
  },
  "language_info": {
   "codemirror_mode": {
    "name": "ipython",
    "version": 3
   },
   "file_extension": ".py",
   "mimetype": "text/x-python",
   "name": "python",
   "nbconvert_exporter": "python",
   "pygments_lexer": "ipython3",
   "version": "3.5.2"
  }
 },
 "nbformat": 4,
 "nbformat_minor": 2
}
