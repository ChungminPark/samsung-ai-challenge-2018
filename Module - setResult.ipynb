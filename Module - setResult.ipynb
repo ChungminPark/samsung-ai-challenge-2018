{
 "cells": [
  {
   "cell_type": "code",
   "execution_count": 2,
   "metadata": {},
   "outputs": [],
   "source": [
    "import numpy as np\n",
    "import pandas as pd"
   ]
  },
  {
   "cell_type": "code",
   "execution_count": 19,
   "metadata": {},
   "outputs": [],
   "source": [
    "class MyModule(object):\n",
    "    \n",
    "    def setResult(self, arr, predict, case):\n",
    "               \n",
    "        result_arr = arr\n",
    "        if case == 'Case1':\n",
    "            result_arr[:, 2] = predict[:, 0]\n",
    "            result_arr[:, 5] = predict[:, 1]\n",
    "        \n",
    "            result_arr[:, 3] = result_arr[:, 2].sum() + result_arr[:, 4:6].sum()\n",
    "        \n",
    "        print(result_arr)\n",
    "    "
   ]
  },
  {
   "cell_type": "code",
   "execution_count": 4,
   "metadata": {},
   "outputs": [
    {
     "name": "stdout",
     "output_type": "stream",
     "text": [
      "<class 'numpy.ndarray'>\n",
      "[[0.9350695  0.00609388]]\n"
     ]
    }
   ],
   "source": [
    "low = 1\n",
    "arr = np.array([[1.0412397 , 0.6131577 ],\n",
    "       [0.9350695 , 0.00609388]])\n",
    "print(type(arr))\n",
    "resultArr = arr[low:low+1, :]\n",
    "print(resultArr)"
   ]
  },
  {
   "cell_type": "code",
   "execution_count": 20,
   "metadata": {},
   "outputs": [
    {
     "name": "stdout",
     "output_type": "stream",
     "text": [
      "[['야간' '금' nan nan 0.0 nan 0.0 '경기' '화성시' '차대차' '측면충돌' '중앙선 침범' '단일로'\n",
      "  '기타단일로' '승용차' '승합차']]\n",
      "[nan]\n",
      "[['야간' '금' 1.0412397 1.6543974000000001 0.0 0.6131577 0.0 '경기' '화성시'\n",
      "  '차대차' '측면충돌' '중앙선 침범' '단일로' '기타단일로' '승용차' '승합차']]\n"
     ]
    }
   ],
   "source": [
    "x_test = pd.read_csv('./samsung_dataset/test_kor.csv',encoding='cp949')\n",
    "print(x_test.loc[:0].values)\n",
    "\n",
    "arr = x_test.loc[:0].values\n",
    "# arr[:, 2] = predict[0]\n",
    "print(arr[:, 2])\n",
    "\n",
    "predict = np.array([[1.0412397 , 0.6131577 ]])\n",
    "current_case = 'Case1'\n",
    "\n",
    "a = MyModule()\n",
    "a.setResult(arr, predict, current_case)"
   ]
  },
  {
   "cell_type": "code",
   "execution_count": 8,
   "metadata": {},
   "outputs": [
    {
     "data": {
      "text/plain": [
       "array([nan], dtype=object)"
      ]
     },
     "execution_count": 8,
     "metadata": {},
     "output_type": "execute_result"
    }
   ],
   "source": [
    "arr[:, 2]"
   ]
  },
  {
   "cell_type": "code",
   "execution_count": 18,
   "metadata": {},
   "outputs": [
    {
     "data": {
      "text/plain": [
       "1.0412397"
      ]
     },
     "execution_count": 18,
     "metadata": {},
     "output_type": "execute_result"
    }
   ],
   "source": [
    "predict[:, 0].sum()"
   ]
  },
  {
   "cell_type": "code",
   "execution_count": null,
   "metadata": {},
   "outputs": [],
   "source": []
  }
 ],
 "metadata": {
  "kernelspec": {
   "display_name": "Python 3",
   "language": "python",
   "name": "python3"
  },
  "language_info": {
   "codemirror_mode": {
    "name": "ipython",
    "version": 3
   },
   "file_extension": ".py",
   "mimetype": "text/x-python",
   "name": "python",
   "nbconvert_exporter": "python",
   "pygments_lexer": "ipython3",
   "version": "3.5.2"
  }
 },
 "nbformat": 4,
 "nbformat_minor": 2
}
