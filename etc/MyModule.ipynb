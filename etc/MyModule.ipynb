{
 "cells": [
  {
   "cell_type": "code",
   "execution_count": null,
   "metadata": {},
   "outputs": [],
   "source": [
    "def setResult(arr, predict, case):\n",
    "\n",
    "    result_arr = arr\n",
    "    if case == 'Case1':\n",
    "        result_arr[:, 2] = predict[:, 0]\n",
    "        result_arr[:, 5] = predict[:, 1]\n",
    "\n",
    "        result_arr[:, 3] = result_arr[:, 2].sum() + result_arr[:, 4:6].sum()\n",
    "\n",
    "    print(result_arr)"
   ]
  },
  {
   "cell_type": "code",
   "execution_count": null,
   "metadata": {},
   "outputs": [],
   "source": [
    "def findCoordinate():\n",
    "    data = x_test.isnull()\n",
    "    for i in range(50):\n",
    "        for j in range(16):\n",
    "            if data.values[i:i+1, j:j+1] == True:\n",
    "                temp = np.array([i, j])\n",
    "                result = np.append(result, temp)\n",
    "    return result"
   ]
  },
  {
   "cell_type": "code",
   "execution_count": null,
   "metadata": {},
   "outputs": [],
   "source": [
    "def searchCase(coord):\n",
    "    \n",
    "    blanks_coord = np.array([])\n",
    "    column_names = np.array([])\n",
    "\n",
    "    for i in coord:\n",
    "        tmp = 0\n",
    "        # 같은 행이면 계속 탐색\n",
    "        if tmp == i[0]:\n",
    "            # 공백의 좌표\n",
    "            blanks_coord = np.append(blanks_coord, i)\n",
    "            print(blanks_coord)\n",
    "            continue\n",
    "\n",
    "        # 다른 행이면 해당 공백의 컬럼 이름 탐색\n",
    "        else:\n",
    "            blanks_coord = np.reshape(blanks_coord, (-1, 2))\n",
    "            for j in blanks_coord:\n",
    "                j = int(j[1])\n",
    "                column_names = np.append(column_names, x_test.columns[j])\n",
    "\n",
    "            # 컬럼 이름 다 찾았으면 Cases와 비교해서 무슨 case인지 탐색    \n",
    "            for k in Cases:\n",
    "                print(column_names, k)\n",
    "                if np.array_equal(column_names, k):\n",
    "                    return k\n",
    "                else:\n",
    "                    continue"
   ]
  },
  {
   "cell_type": "code",
   "execution_count": null,
   "metadata": {},
   "outputs": [],
   "source": [
    "# 여러 개의 매개변수를 받고 리턴함\n",
    "def getCasualty(*args):\n",
    "    result = 0\n",
    "    for i in args:\n",
    "        result = result + i\n",
    "    return result"
   ]
  }
 ],
 "metadata": {
  "kernelspec": {
   "display_name": "Python 3",
   "language": "python",
   "name": "python3"
  },
  "language_info": {
   "codemirror_mode": {
    "name": "ipython",
    "version": 3
   },
   "file_extension": ".py",
   "mimetype": "text/x-python",
   "name": "python",
   "nbconvert_exporter": "python",
   "pygments_lexer": "ipython3",
   "version": "3.5.2"
  }
 },
 "nbformat": 4,
 "nbformat_minor": 2
}
