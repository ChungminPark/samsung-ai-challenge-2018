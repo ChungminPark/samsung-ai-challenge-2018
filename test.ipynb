{
 "cells": [
  {
   "cell_type": "code",
   "execution_count": 4,
   "metadata": {},
   "outputs": [],
   "source": [
    "import keras\n",
    "from keras.layers import Dense, Input, LSTM, concatenate, Dropout, Conv2D, MaxPool2D, Embedding, Reshape, Conv1D\n",
    "import numpy as np\n",
    "import pandas as pd\n",
    "from keras.models import load_model\n",
    "from keras import backend as K\n",
    "from keras.engine import InputLayer"
   ]
  },
  {
   "cell_type": "code",
   "execution_count": 5,
   "metadata": {},
   "outputs": [],
   "source": [
    "X = np.array([[20,30,20,40,50]])\n",
    "Y = np.array([1,2,1,4,5])"
   ]
  },
  {
   "cell_type": "code",
   "execution_count": null,
   "metadata": {},
   "outputs": [],
   "source": [
    "# Model define\n",
    "x_input = Input(shape=(len(X[0]),))\n",
    "x = Dense((int(len(X[0] + len(Y[0])) * 2 /3)), activation='relu')(x_input)\n",
    "x = Dropout(0.3)(x)\n",
    "x = Dense((int(len(X[0] + len(Y[0])) * 2 /3)), activation='relu')(x)\n",
    "x = Dropout(0.3)(x)\n",
    "x = Dense((int(len(X[0] + len(Y[0])) * 2 /3)), activation='relu')(x)\n",
    "x = Dropout(0.3)(x)\n",
    "x_output = Dense(len(Y[0]))(x)\n",
    "\n",
    "model = Model(inputs=num_input, outputs=num_output)\n",
    "\n",
    "model.compile(optimizer='adam', loss='mse', metrics=['accuracy'])\n",
    "\n",
    "history = model.fit(X, Y, epochs=50, batch_size=128)\n",
    "\n",
    "model.save(\"reshaped_model.h5\") \n",
    "\n",
    "model = load_model('your_model.h5')"
   ]
  }
 ],
 "metadata": {
  "kernelspec": {
   "display_name": "Python 3",
   "language": "python",
   "name": "python3"
  },
  "language_info": {
   "codemirror_mode": {
    "name": "ipython",
    "version": 3
   },
   "file_extension": ".py",
   "mimetype": "text/x-python",
   "name": "python",
   "nbconvert_exporter": "python",
   "pygments_lexer": "ipython3",
   "version": "3.5.2"
  }
 },
 "nbformat": 4,
 "nbformat_minor": 2
}
