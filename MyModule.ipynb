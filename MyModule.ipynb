{
 "cells": [
  {
   "cell_type": "code",
   "execution_count": null,
   "metadata": {},
   "outputs": [],
   "source": [
    "def setResult(arr, predict, case):\n",
    "\n",
    "    result_arr = arr\n",
    "    if case == 'Case1':\n",
    "        result_arr[:, 2] = predict[:, 0]\n",
    "        result_arr[:, 5] = predict[:, 1]\n",
    "\n",
    "        result_arr[:, 3] = result_arr[:, 2].sum() + result_arr[:, 4:6].sum()\n",
    "\n",
    "    print(result_arr)"
   ]
  },
  {
   "cell_type": "code",
   "execution_count": null,
   "metadata": {},
   "outputs": [],
   "source": [
    "def findCoordinate():\n",
    "    data = x_test.isnull()\n",
    "    for i in range(50):\n",
    "        for j in range(16):\n",
    "            if data.values[i:i+1, j:j+1] == True:\n",
    "                temp = np.array([i, j])\n",
    "                result = np.append(result, temp)\n",
    "    return result"
   ]
  }
 ],
 "metadata": {
  "kernelspec": {
   "display_name": "Python 3",
   "language": "python",
   "name": "python3"
  },
  "language_info": {
   "codemirror_mode": {
    "name": "ipython",
    "version": 3
   },
   "file_extension": ".py",
   "mimetype": "text/x-python",
   "name": "python",
   "nbconvert_exporter": "python",
   "pygments_lexer": "ipython3",
   "version": "3.5.2"
  }
 },
 "nbformat": 4,
 "nbformat_minor": 2
}
