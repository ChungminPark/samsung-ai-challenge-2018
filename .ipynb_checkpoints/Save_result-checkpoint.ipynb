{
 "cells": [
  {
   "cell_type": "code",
   "execution_count": 3,
   "metadata": {},
   "outputs": [],
   "source": [
    "import numpy as np\n",
    "import pandas as pd"
   ]
  },
  {
   "cell_type": "code",
   "execution_count": 12,
   "metadata": {},
   "outputs": [],
   "source": [
    "def save_result():\n",
    "    '''\n",
    "    test file에 있는 값을 result file에 저장\n",
    "    '''\n",
    "    test = pd.read_csv('./test_kor.csv', encoding='cp949', names= [chr(y) for y in range(ord('A'),ord('P')+1)])\n",
    "    result = pd.read_csv('./result_kor.csv', encoding='cp949')\n",
    "    \n",
    "    cols = result['열'].values\n",
    "    rows = result['행'].values\n",
    "    vals = result['값'].values\n",
    "    \n",
    "    rows-=1\n",
    "    \n",
    "    for i, (row, col) in enumerate(zip(rows, cols)):\n",
    "        vals[i] = test[col][row]\n",
    "        \n",
    "    rows += 1\n",
    "\n",
    "    with open('./result_kor1.csv','wb',) as f:\n",
    "        for i in result.index:\n",
    "            np.savetxt(f,  np.c_[rows,cols,vals],  delimiter=\",\", fmt='%s', encoding='cp949', header='행,열,값', comments='')"
   ]
  }
 ],
 "metadata": {
  "kernelspec": {
   "display_name": "Python 3",
   "language": "python",
   "name": "python3"
  },
  "language_info": {
   "codemirror_mode": {
    "name": "ipython",
    "version": 3
   },
   "file_extension": ".py",
   "mimetype": "text/x-python",
   "name": "python",
   "nbconvert_exporter": "python",
   "pygments_lexer": "ipython3",
   "version": "3.5.2"
  }
 },
 "nbformat": 4,
 "nbformat_minor": 2
}
