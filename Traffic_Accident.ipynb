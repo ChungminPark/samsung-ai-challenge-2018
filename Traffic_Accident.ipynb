{
 "cells": [
  {
   "cell_type": "markdown",
   "metadata": {},
   "source": [
    "## 데이터 전처리\n",
    "\n",
    "### 수치형\n",
    "사상자수, 사망자수, 중상자수, 경상자수, 부상신고자수\n",
    "\n",
    "### 범주형\n",
    "주야, 요일, 발생지시도, 발생지시군구, \n",
    "사고유형_대분류, 사고유형_중분류, 법규위반, 도로형태_대분류,\n",
    "도로형태, 당사자종별_1당_대분류, 당사자종별_2당_대분류"
   ]
  },
  {
   "cell_type": "code",
   "execution_count": 1,
   "metadata": {},
   "outputs": [],
   "source": [
    "import pandas as pd\n",
    "import numpy as np\n",
    "from sklearn.preprocessing import LabelEncoder, LabelBinarizer, OneHotEncoder, MultiLabelBinarizer"
   ]
  },
  {
   "cell_type": "code",
   "execution_count": 2,
   "metadata": {
    "scrolled": true
   },
   "outputs": [],
   "source": [
    "categorical = ['주야', '요일', '발생지시도', '발생지시군구', '사고유형_대분류', '사고유형_중분류', '법규위반', \n",
    "            '도로형태_대분류', '도로형태', '당사자종별_1당_대분류', '당사자종별_2당_대분류']\n",
    "numerical = ['사상자수', '사망자수', '중상자수', '경상자수','부상신고자수']\n",
    "x_train_num = pd.read_csv('./교통사망사고정보/Kor_Train_교통사망사고정보(12.1~17.6).csv',encoding='cp949', \n",
    "                              usecols=numerical)\n",
    "\n",
    "x_train_cat = pd.read_csv('./교통사망사고정보/Kor_Train_교통사망사고정보(12.1~17.6).csv',encoding='cp949',\n",
    "                               usecols=categorical)\n"
   ]
  },
  {
   "cell_type": "code",
   "execution_count": 3,
   "metadata": {},
   "outputs": [],
   "source": [
    "x_test_num = pd.read_csv('./test_kor.csv',encoding='cp949', \n",
    "                              usecols=numerical)\n",
    "\n",
    "x_test_cat = pd.read_csv('./test_kor.csv',encoding='cp949',\n",
    "                               usecols=categorical)"
   ]
  },
  {
   "cell_type": "code",
   "execution_count": 4,
   "metadata": {},
   "outputs": [
    {
     "data": {
      "text/html": [
       "<div>\n",
       "<style scoped>\n",
       "    .dataframe tbody tr th:only-of-type {\n",
       "        vertical-align: middle;\n",
       "    }\n",
       "\n",
       "    .dataframe tbody tr th {\n",
       "        vertical-align: top;\n",
       "    }\n",
       "\n",
       "    .dataframe thead th {\n",
       "        text-align: right;\n",
       "    }\n",
       "</style>\n",
       "<table border=\"1\" class=\"dataframe\">\n",
       "  <thead>\n",
       "    <tr style=\"text-align: right;\">\n",
       "      <th></th>\n",
       "      <th>사망자수</th>\n",
       "      <th>사상자수</th>\n",
       "      <th>중상자수</th>\n",
       "      <th>경상자수</th>\n",
       "      <th>부상신고자수</th>\n",
       "    </tr>\n",
       "  </thead>\n",
       "  <tbody>\n",
       "    <tr>\n",
       "      <th>count</th>\n",
       "      <td>25037.000000</td>\n",
       "      <td>25037.00000</td>\n",
       "      <td>25037.000000</td>\n",
       "      <td>25037.000000</td>\n",
       "      <td>25037.000000</td>\n",
       "    </tr>\n",
       "    <tr>\n",
       "      <th>mean</th>\n",
       "      <td>1.040899</td>\n",
       "      <td>1.62152</td>\n",
       "      <td>0.299996</td>\n",
       "      <td>0.250509</td>\n",
       "      <td>0.030115</td>\n",
       "    </tr>\n",
       "    <tr>\n",
       "      <th>std</th>\n",
       "      <td>0.252493</td>\n",
       "      <td>2.05103</td>\n",
       "      <td>1.052157</td>\n",
       "      <td>1.145349</td>\n",
       "      <td>0.541728</td>\n",
       "    </tr>\n",
       "    <tr>\n",
       "      <th>min</th>\n",
       "      <td>1.000000</td>\n",
       "      <td>1.00000</td>\n",
       "      <td>0.000000</td>\n",
       "      <td>0.000000</td>\n",
       "      <td>0.000000</td>\n",
       "    </tr>\n",
       "    <tr>\n",
       "      <th>25%</th>\n",
       "      <td>1.000000</td>\n",
       "      <td>1.00000</td>\n",
       "      <td>0.000000</td>\n",
       "      <td>0.000000</td>\n",
       "      <td>0.000000</td>\n",
       "    </tr>\n",
       "    <tr>\n",
       "      <th>50%</th>\n",
       "      <td>1.000000</td>\n",
       "      <td>1.00000</td>\n",
       "      <td>0.000000</td>\n",
       "      <td>0.000000</td>\n",
       "      <td>0.000000</td>\n",
       "    </tr>\n",
       "    <tr>\n",
       "      <th>75%</th>\n",
       "      <td>1.000000</td>\n",
       "      <td>2.00000</td>\n",
       "      <td>0.000000</td>\n",
       "      <td>0.000000</td>\n",
       "      <td>0.000000</td>\n",
       "    </tr>\n",
       "    <tr>\n",
       "      <th>max</th>\n",
       "      <td>10.000000</td>\n",
       "      <td>100.00000</td>\n",
       "      <td>54.000000</td>\n",
       "      <td>62.000000</td>\n",
       "      <td>67.000000</td>\n",
       "    </tr>\n",
       "  </tbody>\n",
       "</table>\n",
       "</div>"
      ],
      "text/plain": [
       "               사망자수         사상자수          중상자수          경상자수        부상신고자수\n",
       "count  25037.000000  25037.00000  25037.000000  25037.000000  25037.000000\n",
       "mean       1.040899      1.62152      0.299996      0.250509      0.030115\n",
       "std        0.252493      2.05103      1.052157      1.145349      0.541728\n",
       "min        1.000000      1.00000      0.000000      0.000000      0.000000\n",
       "25%        1.000000      1.00000      0.000000      0.000000      0.000000\n",
       "50%        1.000000      1.00000      0.000000      0.000000      0.000000\n",
       "75%        1.000000      2.00000      0.000000      0.000000      0.000000\n",
       "max       10.000000    100.00000     54.000000     62.000000     67.000000"
      ]
     },
     "execution_count": 4,
     "metadata": {},
     "output_type": "execute_result"
    }
   ],
   "source": [
    "x_train_num.describe()"
   ]
  },
  {
   "cell_type": "code",
   "execution_count": 5,
   "metadata": {
    "scrolled": false
   },
   "outputs": [
    {
     "data": {
      "text/html": [
       "<div>\n",
       "<style scoped>\n",
       "    .dataframe tbody tr th:only-of-type {\n",
       "        vertical-align: middle;\n",
       "    }\n",
       "\n",
       "    .dataframe tbody tr th {\n",
       "        vertical-align: top;\n",
       "    }\n",
       "\n",
       "    .dataframe thead th {\n",
       "        text-align: right;\n",
       "    }\n",
       "</style>\n",
       "<table border=\"1\" class=\"dataframe\">\n",
       "  <thead>\n",
       "    <tr style=\"text-align: right;\">\n",
       "      <th></th>\n",
       "      <th>주야</th>\n",
       "      <th>요일</th>\n",
       "      <th>발생지시도</th>\n",
       "      <th>발생지시군구</th>\n",
       "      <th>사고유형_대분류</th>\n",
       "      <th>사고유형_중분류</th>\n",
       "      <th>법규위반</th>\n",
       "      <th>도로형태_대분류</th>\n",
       "      <th>도로형태</th>\n",
       "      <th>당사자종별_1당_대분류</th>\n",
       "      <th>당사자종별_2당_대분류</th>\n",
       "    </tr>\n",
       "  </thead>\n",
       "  <tbody>\n",
       "    <tr>\n",
       "      <th>count</th>\n",
       "      <td>25037</td>\n",
       "      <td>25037</td>\n",
       "      <td>25037</td>\n",
       "      <td>25037</td>\n",
       "      <td>25037</td>\n",
       "      <td>25037</td>\n",
       "      <td>25037</td>\n",
       "      <td>25037</td>\n",
       "      <td>25037</td>\n",
       "      <td>25037</td>\n",
       "      <td>25037</td>\n",
       "    </tr>\n",
       "    <tr>\n",
       "      <th>unique</th>\n",
       "      <td>2</td>\n",
       "      <td>7</td>\n",
       "      <td>17</td>\n",
       "      <td>208</td>\n",
       "      <td>4</td>\n",
       "      <td>19</td>\n",
       "      <td>20</td>\n",
       "      <td>9</td>\n",
       "      <td>16</td>\n",
       "      <td>12</td>\n",
       "      <td>14</td>\n",
       "    </tr>\n",
       "    <tr>\n",
       "      <th>top</th>\n",
       "      <td>야간</td>\n",
       "      <td>금</td>\n",
       "      <td>경기</td>\n",
       "      <td>서구</td>\n",
       "      <td>차대차</td>\n",
       "      <td>기타</td>\n",
       "      <td>안전운전 의무 불이행</td>\n",
       "      <td>단일로</td>\n",
       "      <td>기타단일로</td>\n",
       "      <td>승용차</td>\n",
       "      <td>보행자</td>\n",
       "    </tr>\n",
       "    <tr>\n",
       "      <th>freq</th>\n",
       "      <td>12913</td>\n",
       "      <td>3714</td>\n",
       "      <td>4728</td>\n",
       "      <td>493</td>\n",
       "      <td>9857</td>\n",
       "      <td>5847</td>\n",
       "      <td>17741</td>\n",
       "      <td>16746</td>\n",
       "      <td>15011</td>\n",
       "      <td>12374</td>\n",
       "      <td>9784</td>\n",
       "    </tr>\n",
       "  </tbody>\n",
       "</table>\n",
       "</div>"
      ],
      "text/plain": [
       "           주야     요일  발생지시도 발생지시군구 사고유형_대분류 사고유형_중분류         법규위반 도로형태_대분류  \\\n",
       "count   25037  25037  25037  25037    25037    25037        25037    25037   \n",
       "unique      2      7     17    208        4       19           20        9   \n",
       "top        야간      금     경기     서구      차대차       기타  안전운전 의무 불이행      단일로   \n",
       "freq    12913   3714   4728    493     9857     5847        17741    16746   \n",
       "\n",
       "         도로형태 당사자종별_1당_대분류 당사자종별_2당_대분류  \n",
       "count   25037        25037        25037  \n",
       "unique     16           12           14  \n",
       "top     기타단일로          승용차          보행자  \n",
       "freq    15011        12374         9784  "
      ]
     },
     "execution_count": 5,
     "metadata": {},
     "output_type": "execute_result"
    }
   ],
   "source": [
    "x_train_cat.describe()"
   ]
  },
  {
   "cell_type": "code",
   "execution_count": 6,
   "metadata": {},
   "outputs": [
    {
     "data": {
      "text/html": [
       "<div>\n",
       "<style scoped>\n",
       "    .dataframe tbody tr th:only-of-type {\n",
       "        vertical-align: middle;\n",
       "    }\n",
       "\n",
       "    .dataframe tbody tr th {\n",
       "        vertical-align: top;\n",
       "    }\n",
       "\n",
       "    .dataframe thead th {\n",
       "        text-align: right;\n",
       "    }\n",
       "</style>\n",
       "<table border=\"1\" class=\"dataframe\">\n",
       "  <thead>\n",
       "    <tr style=\"text-align: right;\">\n",
       "      <th></th>\n",
       "      <th>사망자수</th>\n",
       "      <th>사상자수</th>\n",
       "      <th>중상자수</th>\n",
       "      <th>경상자수</th>\n",
       "      <th>부상신고자수</th>\n",
       "    </tr>\n",
       "  </thead>\n",
       "  <tbody>\n",
       "    <tr>\n",
       "      <th>count</th>\n",
       "      <td>41.000000</td>\n",
       "      <td>33.000000</td>\n",
       "      <td>36.000000</td>\n",
       "      <td>42.000000</td>\n",
       "      <td>48.000000</td>\n",
       "    </tr>\n",
       "    <tr>\n",
       "      <th>mean</th>\n",
       "      <td>1.170732</td>\n",
       "      <td>3.636364</td>\n",
       "      <td>0.833333</td>\n",
       "      <td>1.785714</td>\n",
       "      <td>0.312500</td>\n",
       "    </tr>\n",
       "    <tr>\n",
       "      <th>std</th>\n",
       "      <td>0.380949</td>\n",
       "      <td>4.181942</td>\n",
       "      <td>1.715476</td>\n",
       "      <td>4.027562</td>\n",
       "      <td>1.545842</td>\n",
       "    </tr>\n",
       "    <tr>\n",
       "      <th>min</th>\n",
       "      <td>1.000000</td>\n",
       "      <td>1.000000</td>\n",
       "      <td>0.000000</td>\n",
       "      <td>0.000000</td>\n",
       "      <td>0.000000</td>\n",
       "    </tr>\n",
       "    <tr>\n",
       "      <th>25%</th>\n",
       "      <td>1.000000</td>\n",
       "      <td>1.000000</td>\n",
       "      <td>0.000000</td>\n",
       "      <td>0.000000</td>\n",
       "      <td>0.000000</td>\n",
       "    </tr>\n",
       "    <tr>\n",
       "      <th>50%</th>\n",
       "      <td>1.000000</td>\n",
       "      <td>2.000000</td>\n",
       "      <td>0.000000</td>\n",
       "      <td>0.000000</td>\n",
       "      <td>0.000000</td>\n",
       "    </tr>\n",
       "    <tr>\n",
       "      <th>75%</th>\n",
       "      <td>1.000000</td>\n",
       "      <td>4.000000</td>\n",
       "      <td>1.000000</td>\n",
       "      <td>1.000000</td>\n",
       "      <td>0.000000</td>\n",
       "    </tr>\n",
       "    <tr>\n",
       "      <th>max</th>\n",
       "      <td>2.000000</td>\n",
       "      <td>19.000000</td>\n",
       "      <td>9.000000</td>\n",
       "      <td>21.000000</td>\n",
       "      <td>10.000000</td>\n",
       "    </tr>\n",
       "  </tbody>\n",
       "</table>\n",
       "</div>"
      ],
      "text/plain": [
       "            사망자수       사상자수       중상자수       경상자수     부상신고자수\n",
       "count  41.000000  33.000000  36.000000  42.000000  48.000000\n",
       "mean    1.170732   3.636364   0.833333   1.785714   0.312500\n",
       "std     0.380949   4.181942   1.715476   4.027562   1.545842\n",
       "min     1.000000   1.000000   0.000000   0.000000   0.000000\n",
       "25%     1.000000   1.000000   0.000000   0.000000   0.000000\n",
       "50%     1.000000   2.000000   0.000000   0.000000   0.000000\n",
       "75%     1.000000   4.000000   1.000000   1.000000   0.000000\n",
       "max     2.000000  19.000000   9.000000  21.000000  10.000000"
      ]
     },
     "execution_count": 6,
     "metadata": {},
     "output_type": "execute_result"
    }
   ],
   "source": [
    "x_test_num.describe()"
   ]
  },
  {
   "cell_type": "code",
   "execution_count": 7,
   "metadata": {},
   "outputs": [
    {
     "data": {
      "text/html": [
       "<div>\n",
       "<style scoped>\n",
       "    .dataframe tbody tr th:only-of-type {\n",
       "        vertical-align: middle;\n",
       "    }\n",
       "\n",
       "    .dataframe tbody tr th {\n",
       "        vertical-align: top;\n",
       "    }\n",
       "\n",
       "    .dataframe thead th {\n",
       "        text-align: right;\n",
       "    }\n",
       "</style>\n",
       "<table border=\"1\" class=\"dataframe\">\n",
       "  <thead>\n",
       "    <tr style=\"text-align: right;\">\n",
       "      <th></th>\n",
       "      <th>주야</th>\n",
       "      <th>요일</th>\n",
       "      <th>발생지시도</th>\n",
       "      <th>발생지시군구</th>\n",
       "      <th>사고유형_대분류</th>\n",
       "      <th>사고유형_중분류</th>\n",
       "      <th>법규위반</th>\n",
       "      <th>도로형태_대분류</th>\n",
       "      <th>도로형태</th>\n",
       "      <th>당사자종별_1당_대분류</th>\n",
       "      <th>당사자종별_2당_대분류</th>\n",
       "    </tr>\n",
       "  </thead>\n",
       "  <tbody>\n",
       "    <tr>\n",
       "      <th>count</th>\n",
       "      <td>45</td>\n",
       "      <td>45</td>\n",
       "      <td>45</td>\n",
       "      <td>40</td>\n",
       "      <td>38</td>\n",
       "      <td>35</td>\n",
       "      <td>37</td>\n",
       "      <td>37</td>\n",
       "      <td>37</td>\n",
       "      <td>41</td>\n",
       "      <td>43</td>\n",
       "    </tr>\n",
       "    <tr>\n",
       "      <th>unique</th>\n",
       "      <td>2</td>\n",
       "      <td>7</td>\n",
       "      <td>14</td>\n",
       "      <td>37</td>\n",
       "      <td>3</td>\n",
       "      <td>9</td>\n",
       "      <td>8</td>\n",
       "      <td>2</td>\n",
       "      <td>5</td>\n",
       "      <td>8</td>\n",
       "      <td>8</td>\n",
       "    </tr>\n",
       "    <tr>\n",
       "      <th>top</th>\n",
       "      <td>주간</td>\n",
       "      <td>화</td>\n",
       "      <td>경기</td>\n",
       "      <td>평택시</td>\n",
       "      <td>차대차</td>\n",
       "      <td>추돌</td>\n",
       "      <td>안전운전 의무 불이행</td>\n",
       "      <td>단일로</td>\n",
       "      <td>기타단일로</td>\n",
       "      <td>승용차</td>\n",
       "      <td>화물차</td>\n",
       "    </tr>\n",
       "    <tr>\n",
       "      <th>freq</th>\n",
       "      <td>24</td>\n",
       "      <td>12</td>\n",
       "      <td>8</td>\n",
       "      <td>3</td>\n",
       "      <td>25</td>\n",
       "      <td>11</td>\n",
       "      <td>22</td>\n",
       "      <td>24</td>\n",
       "      <td>24</td>\n",
       "      <td>19</td>\n",
       "      <td>11</td>\n",
       "    </tr>\n",
       "  </tbody>\n",
       "</table>\n",
       "</div>"
      ],
      "text/plain": [
       "        주야  요일 발생지시도 발생지시군구 사고유형_대분류 사고유형_중분류         법규위반 도로형태_대분류   도로형태  \\\n",
       "count   45  45    45     40       38       35           37       37     37   \n",
       "unique   2   7    14     37        3        9            8        2      5   \n",
       "top     주간   화    경기    평택시      차대차       추돌  안전운전 의무 불이행      단일로  기타단일로   \n",
       "freq    24  12     8      3       25       11           22       24     24   \n",
       "\n",
       "       당사자종별_1당_대분류 당사자종별_2당_대분류  \n",
       "count            41           43  \n",
       "unique            8            8  \n",
       "top             승용차          화물차  \n",
       "freq             19           11  "
      ]
     },
     "execution_count": 7,
     "metadata": {},
     "output_type": "execute_result"
    }
   ],
   "source": [
    "x_test_cat.describe()"
   ]
  },
  {
   "cell_type": "markdown",
   "metadata": {},
   "source": [
    "### One Hot Encdoing을 나열해서 만드는 방법"
   ]
  },
  {
   "cell_type": "code",
   "execution_count": 8,
   "metadata": {},
   "outputs": [
    {
     "name": "stdout",
     "output_type": "stream",
     "text": [
      "주야 ['야간' '주간']\n",
      "요일 ['금' '월' '일' '목' '수' '화' '토']\n",
      "발생지시도 ['경기' '전남' '대구' '경북' '충남' '강원' '충북' '서울' '광주' '부산' '경남' '인천' '세종' '전북'\n",
      " '대전' '울산' '제주']\n",
      "발생지시군구 ['화성시' '영암군' '곡성군' '달성군' '고흥군' '영천시' '아산시' '서천군' '평창군' '음성군' '성남시' '서산시'\n",
      " '서구' '영등포구' '용인시' '광양시' '광산구' '중구' '원주시' '고양시' '논산시' '동구' '고성군' '안산시'\n",
      " '목포시' '강서구' '시흥시' '이천시' '사상구' '광진구' '서대문구' '양평군' '남양주시' '동작구' '기장군' '예산군'\n",
      " '남구' '여수시' '제천시' '세종' '춘천시' '의성군' '충주시' '서초구' '금산군' '밀양시' '김천시' '군산시'\n",
      " '대덕구' '파주시' '진주시' '김해시' '북구' '나주시' '고창군' '합천군' '무주군' '계양구' '함양군' '안동시'\n",
      " '인제군' '사하구' '철원군' '강동구' '홍성군' '안양시' '정선군' '용산구' '구미시' '부산진구' '광명시' '송파구'\n",
      " '평택시' '남원시' '함안군' '서귀포시' '경산시' '정읍시' '청주시' '상주시' '삼척시' '강릉시' '양산시' '제주시'\n",
      " '달서구' '영덕군' '여주시' '장성군' '전주시' '청도군' '포항시' '마포구' '영광군' '영주시' '도봉구' '당진시'\n",
      " '부천시' '수성구' '봉화군' '익산시' '구로구' '유성구' '금천구' '천안시' '진도군' '가평군' '강화군' '거창군'\n",
      " '군위군' '부평구' '양주시' '사천시' '의정부시' '영동군' '광주시' '창원시(통합)' '울주군' '진천군' '김포시'\n",
      " '동래구' '강남구' '보령시' '강진군' '보성군' '화순군' '순천시' '보은군' '양양군' '군포시' '청송군' '통영시'\n",
      " '수원시' '경주시' '하남시' '완주군' '양천구' '함평군' '의령군' '공주시' '성북구' '부안군' '예천군' '안성시'\n",
      " '중랑구' '칠곡군' '영월군' '수영구' '순창군' '거제시' '성주군' '장수군' '문경시' '은평구' '포천시' '울진군'\n",
      " '무안군' '해남군' '담양군' '양구군' '연천군' '횡성군' '장흥군' '태백시' '홍천군' '하동군' '남동구' '의왕시'\n",
      " '속초시' '부여군' '성동구' '김제시' '강북구' '청양군' '신안군' '해운대구' '종로구' '동두천시' '연제구' '진안군'\n",
      " '임실군' '노원구' '증평군' '단양군' '태안군' '고령군' '동해시' '연수구' '관악구' '옥천군' '동대문구' '영양군'\n",
      " '오산시' '금정구' '구례군' '괴산군' '계룡시' '완도군' '창녕군' '화천군' '남해군' '구리시' '산청군' '옹진군'\n",
      " '과천시' '울릉군' '영도구' '청원군' '연기군']\n",
      "사고유형_대분류 ['차대차' '차대사람' '차량단독' '건널목']\n",
      "사고유형_중분류 ['측면충돌' '차도통행중' '전도전복' '정면충돌' '추돌' '횡단중' '기타' '전도' '도로이탈' '길가장자리구역통행중'\n",
      " '공작물충돌' '전복' '보도통행중' '후진중충돌' '주/정차차량 충돌' '측면직각충돌' '차단기돌파' '직전진행' '경보기무시']\n",
      "법규위반 ['중앙선 침범' '과속' '안전운전 의무 불이행' '안전거리 미확보' '기타(운전자법규위반)' '신호위반'\n",
      " '직진 및 우회전차의 통행방해' '교차로 통행방법 위반' '보행자 보호의무 위반' '부당한 회전' '차로위반(진로변경 위반)'\n",
      " '앞지르기 금지위반' '앞지르기 방법위반' '정비불량 제차의 운전금지위반' '서행 및 일시정지위반' '과로'\n",
      " '철길건널목 통과방법위반' '진로양보 의무 불이행' '보행자과실' '통행우선 순위위반']\n",
      "도로형태_대분류 ['단일로' '교차로' '기타' '주차장' '불명' '기타/불명' '고가도로위' '지하도로내' '건널목']\n",
      "도로형태 ['기타단일로' '교차로내' '교차로부근' '교량위' '고가도로위' '교차로횡단보도내' '기타' '지하차도(도로)내' '주차장'\n",
      " '터널안' '불명' '횡단보도상' '횡단보도부근' '기타/불명' '지하도로내' '건널목']\n",
      "당사자종별_1당_대분류 ['승용차' '자전거' '화물차' '승합차' '건설기계' '이륜차' '특수차' '원동기장치자전거' '사륜오토바이(ATV)' '농기계'\n",
      " '개인형이동수단(PM)' '불명']\n",
      "당사자종별_2당_대분류 ['승합차' '보행자' '없음' '화물차' '특수차' '승용차' '이륜차' '농기계' '원동기장치자전거' '자전거'\n",
      " '사륜오토바이(ATV)' '건설기계' '불명' '열차']\n"
     ]
    }
   ],
   "source": [
    "all_data = pd.concat((x_test_cat.dropna(),x_train_cat))\n",
    "for col in all_data.select_dtypes(include=[np.object]).columns:\n",
    "    print(col, all_data[col].unique())"
   ]
  },
  {
   "cell_type": "code",
   "execution_count": 9,
   "metadata": {},
   "outputs": [
    {
     "name": "stderr",
     "output_type": "stream",
     "text": [
      "/home/iron/.local/lib/python3.5/site-packages/ipykernel_launcher.py:2: FutureWarning: specifying 'categories' or 'ordered' in .astype() is deprecated; pass a CategoricalDtype instead\n",
      "  \n",
      "/home/iron/.local/lib/python3.5/site-packages/ipykernel_launcher.py:3: FutureWarning: specifying 'categories' or 'ordered' in .astype() is deprecated; pass a CategoricalDtype instead\n",
      "  This is separate from the ipykernel package so we can avoid doing imports until\n"
     ]
    }
   ],
   "source": [
    "for column in all_data.select_dtypes(include=[np.object]).columns:\n",
    "    x_train_cat[column] = x_train_cat[column].astype('category', categories = all_data[column].unique())\n",
    "    x_test_cat[column] = x_test_cat[column].astype('category', categories = all_data[column].unique())"
   ]
  },
  {
   "cell_type": "code",
   "execution_count": 10,
   "metadata": {},
   "outputs": [],
   "source": [
    "x_train_cat = pd.get_dummies(data=x_train_cat)\n",
    "x_test_cat = pd.get_dummies(data=x_test_cat)"
   ]
  },
  {
   "cell_type": "code",
   "execution_count": 11,
   "metadata": {},
   "outputs": [
    {
     "name": "stdout",
     "output_type": "stream",
     "text": [
      "(25037, 328)\n",
      "(50, 328)\n"
     ]
    }
   ],
   "source": [
    "print(x_train_cat.shape)\n",
    "print(x_test_cat.shape)"
   ]
  },
  {
   "cell_type": "markdown",
   "metadata": {},
   "source": [
    "# Deep Learning"
   ]
  },
  {
   "cell_type": "code",
   "execution_count": 12,
   "metadata": {},
   "outputs": [
    {
     "name": "stderr",
     "output_type": "stream",
     "text": [
      "Using TensorFlow backend.\n"
     ]
    }
   ],
   "source": [
    "import keras\n",
    "from keras.layers import Dense, Input, LSTM, concatenate, Dropout, Conv2D, MaxPool2D, Embedding, Reshape\n",
    "from keras.models import Sequential, Model\n",
    "from keras.utils import np_utils\n",
    "from keras.callbacks import ReduceLROnPlateau, ModelCheckpoint, EarlyStopping\n",
    "from keras import metrics"
   ]
  },
  {
   "cell_type": "code",
   "execution_count": 13,
   "metadata": {
    "scrolled": false
   },
   "outputs": [
    {
     "name": "stdout",
     "output_type": "stream",
     "text": [
      "(25037, 328)\n",
      "(25037, 5)\n",
      "(50, 328)\n",
      "(50, 5)\n"
     ]
    }
   ],
   "source": [
    "print(x_train_cat.shape)\n",
    "print(x_train_num.shape)\n",
    "print(x_test_cat.shape)\n",
    "print(x_test_num.shape)"
   ]
  },
  {
   "cell_type": "code",
   "execution_count": 14,
   "metadata": {},
   "outputs": [],
   "source": [
    "Case1 = ['사망자수','사상자수','경상자수']\n",
    "Case2 = ['사상자수', '중상자수', '부상신고자수']"
   ]
  },
  {
   "cell_type": "markdown",
   "metadata": {},
   "source": [
    "### Case 1\n",
    "'사망자수','사상자수','경상자수' 예측"
   ]
  },
  {
   "cell_type": "code",
   "execution_count": 79,
   "metadata": {},
   "outputs": [],
   "source": [
    "Y = x_train_num[['사망자수','경상자수']].values\n",
    "X = x_train_num.drop(columns=['사망자수','사상자수','경상자수'])"
   ]
  },
  {
   "cell_type": "code",
   "execution_count": 80,
   "metadata": {},
   "outputs": [
    {
     "name": "stdout",
     "output_type": "stream",
     "text": [
      "RangeIndex(start=0, stop=25037, step=1)\n",
      "RangeIndex(start=0, stop=25037, step=1)\n",
      "True\n"
     ]
    }
   ],
   "source": [
    "print(X.index)\n",
    "print(x_train_cat.index)\n",
    "if X.index.all() == x_train_cat.index.all():\n",
    "    print(True)\n",
    "else:\n",
    "    print(False)"
   ]
  },
  {
   "cell_type": "code",
   "execution_count": 81,
   "metadata": {},
   "outputs": [],
   "source": [
    "# X = X.reset_index(drop=True)\n",
    "# x_train_cat = x_train_cat.reset_index(drop=True)"
   ]
  },
  {
   "cell_type": "code",
   "execution_count": 82,
   "metadata": {},
   "outputs": [],
   "source": [
    "X = pd.concat([X, x_train_cat], axis=1).values"
   ]
  },
  {
   "cell_type": "code",
   "execution_count": 83,
   "metadata": {},
   "outputs": [
    {
     "data": {
      "text/plain": [
       "(25037, 330)"
      ]
     },
     "execution_count": 83,
     "metadata": {},
     "output_type": "execute_result"
    }
   ],
   "source": [
    "X.shape"
   ]
  },
  {
   "cell_type": "markdown",
   "metadata": {},
   "source": [
    "Test Data 생성"
   ]
  },
  {
   "cell_type": "code",
   "execution_count": 84,
   "metadata": {},
   "outputs": [],
   "source": [
    "X_test = x_test_num.drop(columns=['사망자수','사상자수','경상자수'])\n",
    "# X_test = X_test.reset_index(drop=True)\n",
    "# x_test_cat = x_test_cat.reset_index(drop=True)\n",
    "X_test = pd.concat([X_test, x_test_cat],axis=1).values"
   ]
  },
  {
   "cell_type": "code",
   "execution_count": 85,
   "metadata": {},
   "outputs": [
    {
     "name": "stdout",
     "output_type": "stream",
     "text": [
      "(25037, 330)\n",
      "(25037, 2)\n"
     ]
    }
   ],
   "source": [
    "print(X.shape)\n",
    "print(Y.shape)"
   ]
  },
  {
   "cell_type": "code",
   "execution_count": 86,
   "metadata": {},
   "outputs": [],
   "source": [
    "num_input = Input(shape=(len(X[0]),), name='num_input')\n",
    "x = Dense(512, activation='relu')(num_input)\n",
    "x = Dropout(0.3)(x)\n",
    "x = Dense(512, activation='relu')(x)\n",
    "x = Dropout(0.3)(x)\n",
    "x = Dense(512, activation='relu')(x)\n",
    "x = Dropout(0.3)(x)\n",
    "x = Dense(512, activation='relu')(x)\n",
    "x = Dropout(0.3)(x)\n",
    "num_output = Dense(len(Y[0]), name='num_output')(x)"
   ]
  },
  {
   "cell_type": "code",
   "execution_count": 87,
   "metadata": {},
   "outputs": [],
   "source": [
    "model = Model(inputs=num_input, outputs=num_output)"
   ]
  },
  {
   "cell_type": "code",
   "execution_count": 88,
   "metadata": {},
   "outputs": [],
   "source": [
    "model.compile(optimizer='sgd',\n",
    "              loss='mse',\n",
    "              metrics=['accuracy'])"
   ]
  },
  {
   "cell_type": "code",
   "execution_count": 89,
   "metadata": {},
   "outputs": [],
   "source": [
    "learning_rate_reduction = ReduceLROnPlateau(monitor='val_acc', \n",
    "                                            patience=25, \n",
    "                                            verbose=1, \n",
    "                                            factor=0.5, \n",
    "                                            min_lr=0.00000001)\n",
    "\n",
    "callbacks = [\n",
    "    learning_rate_reduction, # learning_rate를 점차 감소시킴으로서 최적값에 접근하는 방식\n",
    "                                        # approach to get optimal value by gradually decreasing learning_rate\n",
    "    EarlyStopping('val_loss', patience=10), # val_loss이 최적값에서 멀어지는 순간 epoch가 남아도 학습 중지\n",
    "                                                            # If val_loss deviates from the optimal value, \n",
    "                                                            # learning stops even if epoch remains.\n",
    "    ModelCheckpoint('model.h5', save_best_only=True)] # 모델을 학습시키면서 지금까지 등장했던 최적의 weight들을 항상 저장한다."
   ]
  },
  {
   "cell_type": "code",
   "execution_count": 90,
   "metadata": {},
   "outputs": [
    {
     "name": "stdout",
     "output_type": "stream",
     "text": [
      "Train on 20029 samples, validate on 5008 samples\n",
      "Epoch 1/50\n",
      "20029/20029 [==============================] - 1s 43us/step - loss: 0.7141 - acc: 0.9326 - val_loss: 0.6196 - val_acc: 0.9557\n",
      "Epoch 2/50\n",
      "20029/20029 [==============================] - 1s 28us/step - loss: 0.6220 - acc: 0.9554 - val_loss: 0.5763 - val_acc: 0.9405\n",
      "Epoch 3/50\n",
      "20029/20029 [==============================] - 1s 28us/step - loss: 0.6033 - acc: 0.9492 - val_loss: 0.5658 - val_acc: 0.9383\n",
      "Epoch 4/50\n",
      "20029/20029 [==============================] - 1s 28us/step - loss: 0.6169 - acc: 0.9471 - val_loss: 0.5683 - val_acc: 0.9401\n",
      "Epoch 5/50\n",
      "20029/20029 [==============================] - 1s 28us/step - loss: 0.5962 - acc: 0.9480 - val_loss: 0.5575 - val_acc: 0.9391\n",
      "Epoch 6/50\n",
      "20029/20029 [==============================] - 1s 27us/step - loss: 0.5949 - acc: 0.9454 - val_loss: 0.5547 - val_acc: 0.9393\n",
      "Epoch 7/50\n",
      "20029/20029 [==============================] - 1s 28us/step - loss: 0.5896 - acc: 0.9474 - val_loss: 0.5464 - val_acc: 0.9269\n",
      "Epoch 8/50\n",
      "20029/20029 [==============================] - 1s 31us/step - loss: 0.5968 - acc: 0.9456 - val_loss: 0.5708 - val_acc: 0.9445\n",
      "Epoch 9/50\n",
      "20029/20029 [==============================] - 1s 28us/step - loss: 0.5828 - acc: 0.9480 - val_loss: 0.5413 - val_acc: 0.9261\n",
      "Epoch 10/50\n",
      "20029/20029 [==============================] - 1s 28us/step - loss: 0.5727 - acc: 0.9423 - val_loss: 0.5486 - val_acc: 0.9431\n",
      "Epoch 11/50\n",
      "20029/20029 [==============================] - 1s 27us/step - loss: 0.5852 - acc: 0.9481 - val_loss: 0.5381 - val_acc: 0.9341\n",
      "Epoch 12/50\n",
      "20029/20029 [==============================] - 1s 28us/step - loss: 0.5743 - acc: 0.9457 - val_loss: 0.5336 - val_acc: 0.9383\n",
      "Epoch 13/50\n",
      "20029/20029 [==============================] - 1s 28us/step - loss: 0.5781 - acc: 0.9450 - val_loss: 0.5664 - val_acc: 0.9535\n",
      "Epoch 14/50\n",
      "20029/20029 [==============================] - 1s 29us/step - loss: 0.5615 - acc: 0.9474 - val_loss: 0.5311 - val_acc: 0.9377\n",
      "Epoch 15/50\n",
      "20029/20029 [==============================] - 1s 30us/step - loss: 0.5753 - acc: 0.9455 - val_loss: 0.5327 - val_acc: 0.9445\n",
      "Epoch 16/50\n",
      "20029/20029 [==============================] - 1s 28us/step - loss: 0.5764 - acc: 0.9470 - val_loss: 0.5267 - val_acc: 0.9431\n",
      "Epoch 17/50\n",
      "20029/20029 [==============================] - 1s 28us/step - loss: 0.5498 - acc: 0.9453 - val_loss: 0.5242 - val_acc: 0.9355\n",
      "Epoch 18/50\n",
      "20029/20029 [==============================] - 1s 29us/step - loss: 0.5616 - acc: 0.9457 - val_loss: 0.5185 - val_acc: 0.9399\n",
      "Epoch 19/50\n",
      "20029/20029 [==============================] - 1s 28us/step - loss: 0.5652 - acc: 0.9458 - val_loss: 0.5354 - val_acc: 0.9483\n",
      "Epoch 20/50\n",
      "20029/20029 [==============================] - 1s 28us/step - loss: 0.5533 - acc: 0.9449 - val_loss: 0.5156 - val_acc: 0.9349\n",
      "Epoch 21/50\n",
      "20029/20029 [==============================] - 1s 28us/step - loss: 0.5746 - acc: 0.9462 - val_loss: 0.5419 - val_acc: 0.9495\n",
      "Epoch 22/50\n",
      "20029/20029 [==============================] - 1s 29us/step - loss: 0.5711 - acc: 0.9452 - val_loss: 0.5431 - val_acc: 0.9515\n",
      "Epoch 23/50\n",
      "20029/20029 [==============================] - 1s 30us/step - loss: 0.5649 - acc: 0.9475 - val_loss: 0.5149 - val_acc: 0.9335\n",
      "Epoch 24/50\n",
      "20029/20029 [==============================] - 1s 29us/step - loss: 0.5450 - acc: 0.9425 - val_loss: 0.5373 - val_acc: 0.9483\n",
      "Epoch 25/50\n",
      "20029/20029 [==============================] - 1s 29us/step - loss: 0.5545 - acc: 0.9458 - val_loss: 0.5444 - val_acc: 0.9497\n",
      "Epoch 26/50\n",
      "20029/20029 [==============================] - 1s 31us/step - loss: 0.5440 - acc: 0.9454 - val_loss: 0.5757 - val_acc: 0.9531\n",
      "\n",
      "Epoch 00026: ReduceLROnPlateau reducing learning rate to 0.004999999888241291.\n",
      "Epoch 27/50\n",
      "20029/20029 [==============================] - 1s 28us/step - loss: 0.5311 - acc: 0.9464 - val_loss: 0.5378 - val_acc: 0.9463\n",
      "Epoch 28/50\n",
      "20029/20029 [==============================] - 1s 28us/step - loss: 0.5265 - acc: 0.9411 - val_loss: 0.5371 - val_acc: 0.9467\n",
      "Epoch 29/50\n",
      "20029/20029 [==============================] - 1s 28us/step - loss: 0.5263 - acc: 0.9445 - val_loss: 0.5479 - val_acc: 0.9485\n",
      "Epoch 30/50\n",
      "20029/20029 [==============================] - 1s 29us/step - loss: 0.5324 - acc: 0.9447 - val_loss: 0.5470 - val_acc: 0.9479\n",
      "Epoch 31/50\n",
      "20029/20029 [==============================] - 1s 29us/step - loss: 0.5225 - acc: 0.9441 - val_loss: 0.5399 - val_acc: 0.9475\n",
      "Epoch 32/50\n",
      "20029/20029 [==============================] - 1s 28us/step - loss: 0.5303 - acc: 0.9442 - val_loss: 0.5461 - val_acc: 0.9483\n",
      "Epoch 33/50\n",
      "20029/20029 [==============================] - 1s 29us/step - loss: 0.5303 - acc: 0.9463 - val_loss: 0.5382 - val_acc: 0.9465\n"
     ]
    }
   ],
   "source": [
    "history = model.fit(X, Y, epochs=50, batch_size=128, callbacks=callbacks,validation_split=0.2 )"
   ]
  },
  {
   "cell_type": "code",
   "execution_count": 91,
   "metadata": {},
   "outputs": [
    {
     "name": "stdout",
     "output_type": "stream",
     "text": [
      "X=[[0. 0. 1. 0. 1. 0. 0. 0. 0. 0. 0. 1. 0. 0. 0. 0. 0. 0. 0. 0. 0. 0. 0. 0.\n",
      "  0. 0. 0. 0. 1. 0. 0. 0. 0. 0. 0. 0. 0. 0. 0. 0. 0. 0. 0. 0. 0. 0. 0. 0.\n",
      "  0. 0. 0. 0. 0. 0. 0. 0. 0. 0. 0. 0. 0. 0. 0. 0. 0. 0. 0. 0. 0. 0. 0. 0.\n",
      "  0. 0. 0. 0. 0. 0. 0. 0. 0. 0. 0. 0. 0. 0. 0. 0. 0. 0. 0. 0. 0. 0. 0. 0.\n",
      "  0. 0. 0. 0. 0. 0. 0. 0. 0. 0. 0. 0. 0. 0. 0. 0. 0. 0. 0. 0. 0. 0. 0. 0.\n",
      "  0. 0. 0. 0. 0. 0. 0. 0. 0. 0. 0. 0. 0. 0. 0. 0. 0. 0. 0. 0. 0. 0. 0. 0.\n",
      "  0. 0. 0. 0. 0. 0. 0. 0. 0. 0. 0. 0. 0. 0. 0. 0. 0. 0. 0. 0. 0. 0. 0. 0.\n",
      "  0. 0. 0. 0. 0. 0. 0. 0. 0. 0. 0. 0. 0. 0. 0. 0. 0. 0. 0. 0. 0. 0. 0. 0.\n",
      "  0. 0. 0. 0. 0. 0. 0. 0. 0. 0. 0. 0. 0. 0. 0. 0. 0. 0. 0. 0. 0. 0. 0. 0.\n",
      "  0. 0. 0. 0. 0. 0. 0. 0. 0. 0. 0. 0. 0. 0. 0. 0. 0. 0. 0. 0. 1. 0. 0. 0.\n",
      "  1. 0. 0. 0. 0. 0. 0. 0. 0. 0. 0. 0. 0. 0. 0. 0. 0. 0. 0. 1. 0. 0. 0. 0.\n",
      "  0. 0. 0. 0. 0. 0. 0. 0. 0. 0. 0. 0. 0. 0. 0. 1. 0. 0. 0. 0. 0. 0. 0. 0.\n",
      "  1. 0. 0. 0. 0. 0. 0. 0. 0. 0. 0. 0. 0. 0. 0. 0. 1. 0. 0. 0. 0. 0. 0. 0.\n",
      "  0. 0. 0. 0. 1. 0. 0. 0. 0. 0. 0. 0. 0. 0. 0. 0. 0. 0.]\n",
      " [0. 0. 1. 0. 1. 0. 0. 0. 0. 0. 0. 0. 1. 0. 0. 0. 0. 0. 0. 0. 0. 0. 0. 0.\n",
      "  0. 0. 0. 0. 0. 1. 0. 0. 0. 0. 0. 0. 0. 0. 0. 0. 0. 0. 0. 0. 0. 0. 0. 0.\n",
      "  0. 0. 0. 0. 0. 0. 0. 0. 0. 0. 0. 0. 0. 0. 0. 0. 0. 0. 0. 0. 0. 0. 0. 0.\n",
      "  0. 0. 0. 0. 0. 0. 0. 0. 0. 0. 0. 0. 0. 0. 0. 0. 0. 0. 0. 0. 0. 0. 0. 0.\n",
      "  0. 0. 0. 0. 0. 0. 0. 0. 0. 0. 0. 0. 0. 0. 0. 0. 0. 0. 0. 0. 0. 0. 0. 0.\n",
      "  0. 0. 0. 0. 0. 0. 0. 0. 0. 0. 0. 0. 0. 0. 0. 0. 0. 0. 0. 0. 0. 0. 0. 0.\n",
      "  0. 0. 0. 0. 0. 0. 0. 0. 0. 0. 0. 0. 0. 0. 0. 0. 0. 0. 0. 0. 0. 0. 0. 0.\n",
      "  0. 0. 0. 0. 0. 0. 0. 0. 0. 0. 0. 0. 0. 0. 0. 0. 0. 0. 0. 0. 0. 0. 0. 0.\n",
      "  0. 0. 0. 0. 0. 0. 0. 0. 0. 0. 0. 0. 0. 0. 0. 0. 0. 0. 0. 0. 0. 0. 0. 0.\n",
      "  0. 0. 0. 0. 0. 0. 0. 0. 0. 0. 0. 0. 0. 0. 0. 0. 0. 0. 0. 0. 0. 1. 0. 0.\n",
      "  0. 1. 0. 0. 0. 0. 0. 0. 0. 0. 0. 0. 0. 0. 0. 0. 0. 0. 0. 0. 1. 0. 0. 0.\n",
      "  0. 0. 0. 0. 0. 0. 0. 0. 0. 0. 0. 0. 0. 0. 0. 1. 0. 0. 0. 0. 0. 0. 0. 0.\n",
      "  1. 0. 0. 0. 0. 0. 0. 0. 0. 0. 0. 0. 0. 0. 0. 0. 1. 0. 0. 0. 0. 0. 0. 0.\n",
      "  0. 0. 0. 0. 0. 1. 0. 0. 0. 0. 0. 0. 0. 0. 0. 0. 0. 0.]], Predicted=[[1.0179033  0.69331276]\n",
      " [0.9656948  0.02339632]]\n"
     ]
    }
   ],
   "source": [
    "# make a prediction\n",
    "Y_test = model.predict(X_test[0:2])\n",
    "# Y_test = model.predict(X[0:2])\n",
    "\n",
    "# show the inputs and predicted outputs\n",
    "print(\"X=%s, Predicted=%s\" % (X_test[0:2],  Y_test ))"
   ]
  },
  {
   "cell_type": "markdown",
   "metadata": {},
   "source": [
    "### Case 2\n",
    "\n",
    "'사상자수', '중상자수', '부상신고자수' 예측"
   ]
  },
  {
   "cell_type": "code",
   "execution_count": 219,
   "metadata": {},
   "outputs": [],
   "source": [
    "Y = x_train_num[['사상자수', '중상자수', '부상신고자수']].values\n",
    "X = x_train_num.drop(columns=['사상자수', '중상자수', '부상신고자수'])"
   ]
  },
  {
   "cell_type": "code",
   "execution_count": 220,
   "metadata": {},
   "outputs": [],
   "source": [
    "X = X.reset_index(drop=True)\n",
    "x_train_cat = x_train_cat.reset_index(drop=True)"
   ]
  },
  {
   "cell_type": "code",
   "execution_count": 221,
   "metadata": {},
   "outputs": [],
   "source": [
    "X = pd.concat([X, x_train_cat], axis=1).values"
   ]
  },
  {
   "cell_type": "markdown",
   "metadata": {},
   "source": [
    "Test Data 생성"
   ]
  },
  {
   "cell_type": "code",
   "execution_count": 222,
   "metadata": {},
   "outputs": [],
   "source": [
    "X_test = x_test_num.drop(columns=['사상자수', '중상자수', '부상신고자수'])\n",
    "X_test = X_test.reset_index(drop=True)\n",
    "x_test_cat = x_test_cat.reset_index(drop=True)\n",
    "X_test = pd.concat([X_test, x_test_cat],axis=1).values"
   ]
  },
  {
   "cell_type": "code",
   "execution_count": 231,
   "metadata": {},
   "outputs": [
    {
     "data": {
      "text/plain": [
       "array([[nan, nan,  1., ...,  0.,  0.,  0.],\n",
       "       [nan, nan,  1., ...,  0.,  0.,  0.],\n",
       "       [ 1.,  0.,  1., ...,  0.,  0.,  0.],\n",
       "       ...,\n",
       "       [ 1.,  0.,  0., ...,  0.,  0.,  0.],\n",
       "       [ 2.,  9.,  0., ...,  0.,  0.,  0.],\n",
       "       [ 1.,  0.,  0., ...,  0.,  0.,  0.]])"
      ]
     },
     "execution_count": 231,
     "metadata": {},
     "output_type": "execute_result"
    }
   ],
   "source": [
    "X_test"
   ]
  },
  {
   "cell_type": "code",
   "execution_count": 223,
   "metadata": {},
   "outputs": [
    {
     "name": "stdout",
     "output_type": "stream",
     "text": [
      "(25037, 330)\n",
      "(25037, 3)\n"
     ]
    }
   ],
   "source": [
    "print(X.shape)\n",
    "print(Y.shape)"
   ]
  },
  {
   "cell_type": "code",
   "execution_count": 242,
   "metadata": {},
   "outputs": [],
   "source": [
    "num_input = Input(shape=(len(X[0]),), name='num_input')\n",
    "x = Dense(512, activation='relu')(num_input)\n",
    "x = Dropout(0.3)(x)\n",
    "x = Dense(512, activation='relu')(x)\n",
    "x = Dropout(0.3)(x)\n",
    "x = Dense(512, activation='relu')(x)\n",
    "x = Dropout(0.3)(x)\n",
    "x = Dense(512, activation='relu')(x)\n",
    "x = Dropout(0.3)(x)\n",
    "num_output = Dense(len(Y[0]), name='num_output')(x)"
   ]
  },
  {
   "cell_type": "code",
   "execution_count": 243,
   "metadata": {},
   "outputs": [],
   "source": [
    "model = Model(inputs=num_input, outputs=num_output)"
   ]
  },
  {
   "cell_type": "code",
   "execution_count": 244,
   "metadata": {},
   "outputs": [],
   "source": [
    "model.compile(optimizer='sgd',\n",
    "              loss='mse',\n",
    "              metrics=['accuracy'])"
   ]
  },
  {
   "cell_type": "code",
   "execution_count": 245,
   "metadata": {},
   "outputs": [],
   "source": [
    "learning_rate_reduction = ReduceLROnPlateau(monitor='val_acc', \n",
    "                                            patience=25, \n",
    "                                            verbose=1, \n",
    "                                            factor=0.5, \n",
    "                                            min_lr=0.00000001)\n",
    "\n",
    "callbacks = [\n",
    "    learning_rate_reduction, # learning_rate를 점차 감소시킴으로서 최적값에 접근하는 방식\n",
    "                                        # approach to get optimal value by gradually decreasing learning_rate\n",
    "    EarlyStopping('val_loss', patience=10), # val_loss이 최적값에서 멀어지는 순간 epoch가 남아도 학습 중지\n",
    "                                                            # If val_loss deviates from the optimal value, \n",
    "                                                            # learning stops even if epoch remains.\n",
    "    ModelCheckpoint('model.h5', save_best_only=True)] # 모델을 학습시키면서 지금까지 등장했던 최적의 weight들을 항상 저장한다."
   ]
  },
  {
   "cell_type": "code",
   "execution_count": 246,
   "metadata": {},
   "outputs": [
    {
     "name": "stdout",
     "output_type": "stream",
     "text": [
      "Train on 20029 samples, validate on 5008 samples\n",
      "Epoch 1/50\n",
      "20029/20029 [==============================] - 1s 37us/step - loss: 1.1353 - acc: 0.9906 - val_loss: 1.3231 - val_acc: 1.0000\n",
      "Epoch 2/50\n",
      "20029/20029 [==============================] - 1s 27us/step - loss: 0.9941 - acc: 1.0000 - val_loss: 1.5311 - val_acc: 1.0000\n",
      "Epoch 3/50\n",
      "20029/20029 [==============================] - 1s 28us/step - loss: 0.8412 - acc: 1.0000 - val_loss: 1.2721 - val_acc: 1.0000\n",
      "Epoch 4/50\n",
      "20029/20029 [==============================] - 1s 28us/step - loss: 0.7906 - acc: 1.0000 - val_loss: 1.5489 - val_acc: 1.0000\n",
      "Epoch 5/50\n",
      "20029/20029 [==============================] - 1s 27us/step - loss: 0.8055 - acc: 1.0000 - val_loss: 1.2552 - val_acc: 1.0000\n",
      "Epoch 6/50\n",
      "20029/20029 [==============================] - 1s 27us/step - loss: 0.7961 - acc: 1.0000 - val_loss: 1.2185 - val_acc: 1.0000\n",
      "Epoch 7/50\n",
      "20029/20029 [==============================] - 1s 27us/step - loss: 0.8144 - acc: 1.0000 - val_loss: 1.1873 - val_acc: 1.0000\n",
      "Epoch 8/50\n",
      "20029/20029 [==============================] - 1s 29us/step - loss: 0.7486 - acc: 1.0000 - val_loss: 1.1899 - val_acc: 1.0000\n",
      "Epoch 9/50\n",
      "20029/20029 [==============================] - 1s 28us/step - loss: 0.9346 - acc: 1.0000 - val_loss: 1.2694 - val_acc: 1.0000\n",
      "Epoch 10/50\n",
      "20029/20029 [==============================] - 1s 30us/step - loss: 0.7749 - acc: 1.0000 - val_loss: 1.2809 - val_acc: 1.0000\n",
      "Epoch 11/50\n",
      "20029/20029 [==============================] - 1s 28us/step - loss: 0.7199 - acc: 1.0000 - val_loss: 1.1927 - val_acc: 1.0000\n",
      "Epoch 12/50\n",
      "20029/20029 [==============================] - 1s 28us/step - loss: 0.7174 - acc: 1.0000 - val_loss: 1.1891 - val_acc: 1.0000\n",
      "Epoch 13/50\n",
      "20029/20029 [==============================] - 1s 29us/step - loss: 0.6935 - acc: 1.0000 - val_loss: 1.2772 - val_acc: 1.0000\n",
      "Epoch 14/50\n",
      "20029/20029 [==============================] - 1s 28us/step - loss: 0.7498 - acc: 1.0000 - val_loss: 1.2446 - val_acc: 1.0000\n",
      "Epoch 15/50\n",
      "20029/20029 [==============================] - 1s 28us/step - loss: 0.7628 - acc: 1.0000 - val_loss: 1.2326 - val_acc: 1.0000\n",
      "Epoch 16/50\n",
      "20029/20029 [==============================] - 1s 27us/step - loss: 0.7686 - acc: 1.0000 - val_loss: 1.2112 - val_acc: 1.0000\n",
      "Epoch 17/50\n",
      "20029/20029 [==============================] - 1s 28us/step - loss: 0.7215 - acc: 1.0000 - val_loss: 1.2249 - val_acc: 1.0000\n"
     ]
    }
   ],
   "source": [
    "history = model.fit(X, Y, epochs=50, batch_size=128, callbacks=callbacks,validation_split=0.2 )"
   ]
  },
  {
   "cell_type": "code",
   "execution_count": 247,
   "metadata": {
    "scrolled": true
   },
   "outputs": [
    {
     "name": "stdout",
     "output_type": "stream",
     "text": [
      "X=[[1. 0. 1. 0. 0. 1. 0. 0. 0. 0. 0. 0. 1. 0. 0. 0. 0. 0. 0. 0. 0. 0. 0. 0.\n",
      "  0. 0. 0. 0. 0. 0. 1. 0. 0. 0. 0. 0. 0. 0. 0. 0. 0. 0. 0. 0. 0. 0. 0. 0.\n",
      "  0. 0. 0. 0. 0. 0. 0. 0. 0. 0. 0. 0. 0. 0. 0. 0. 0. 0. 0. 0. 0. 0. 0. 0.\n",
      "  0. 0. 0. 0. 0. 0. 0. 0. 0. 0. 0. 0. 0. 0. 0. 0. 0. 0. 0. 0. 0. 0. 0. 0.\n",
      "  0. 0. 0. 0. 0. 0. 0. 0. 0. 0. 0. 0. 0. 0. 0. 0. 0. 0. 0. 0. 0. 0. 0. 0.\n",
      "  0. 0. 0. 0. 0. 0. 0. 0. 0. 0. 0. 0. 0. 0. 0. 0. 0. 0. 0. 0. 0. 0. 0. 0.\n",
      "  0. 0. 0. 0. 0. 0. 0. 0. 0. 0. 0. 0. 0. 0. 0. 0. 0. 0. 0. 0. 0. 0. 0. 0.\n",
      "  0. 0. 0. 0. 0. 0. 0. 0. 0. 0. 0. 0. 0. 0. 0. 0. 0. 0. 0. 0. 0. 0. 0. 0.\n",
      "  0. 0. 0. 0. 0. 0. 0. 0. 0. 0. 0. 0. 0. 0. 0. 0. 0. 0. 0. 0. 0. 0. 0. 0.\n",
      "  0. 0. 0. 0. 0. 0. 0. 0. 0. 0. 0. 0. 0. 0. 0. 0. 0. 0. 0. 0. 0. 0. 1. 0.\n",
      "  0. 0. 1. 0. 0. 0. 0. 0. 0. 0. 0. 0. 0. 0. 0. 0. 0. 0. 0. 0. 0. 1. 0. 0.\n",
      "  0. 0. 0. 0. 0. 0. 0. 0. 0. 0. 0. 0. 0. 0. 0. 1. 0. 0. 0. 0. 0. 0. 0. 0.\n",
      "  1. 0. 0. 0. 0. 0. 0. 0. 0. 0. 0. 0. 0. 0. 0. 0. 0. 1. 0. 0. 0. 0. 0. 0.\n",
      "  0. 0. 0. 0. 0. 0. 1. 0. 0. 0. 0. 0. 0. 0. 0. 0. 0. 0.]\n",
      " [2. 1. 1. 0. 0. 0. 1. 0. 0. 0. 0. 0. 0. 1. 0. 0. 0. 0. 0. 0. 0. 0. 0. 0.\n",
      "  0. 0. 0. 0. 0. 0. 0. 1. 0. 0. 0. 0. 0. 0. 0. 0. 0. 0. 0. 0. 0. 0. 0. 0.\n",
      "  0. 0. 0. 0. 0. 0. 0. 0. 0. 0. 0. 0. 0. 0. 0. 0. 0. 0. 0. 0. 0. 0. 0. 0.\n",
      "  0. 0. 0. 0. 0. 0. 0. 0. 0. 0. 0. 0. 0. 0. 0. 0. 0. 0. 0. 0. 0. 0. 0. 0.\n",
      "  0. 0. 0. 0. 0. 0. 0. 0. 0. 0. 0. 0. 0. 0. 0. 0. 0. 0. 0. 0. 0. 0. 0. 0.\n",
      "  0. 0. 0. 0. 0. 0. 0. 0. 0. 0. 0. 0. 0. 0. 0. 0. 0. 0. 0. 0. 0. 0. 0. 0.\n",
      "  0. 0. 0. 0. 0. 0. 0. 0. 0. 0. 0. 0. 0. 0. 0. 0. 0. 0. 0. 0. 0. 0. 0. 0.\n",
      "  0. 0. 0. 0. 0. 0. 0. 0. 0. 0. 0. 0. 0. 0. 0. 0. 0. 0. 0. 0. 0. 0. 0. 0.\n",
      "  0. 0. 0. 0. 0. 0. 0. 0. 0. 0. 0. 0. 0. 0. 0. 0. 0. 0. 0. 0. 0. 0. 0. 0.\n",
      "  0. 0. 0. 0. 0. 0. 0. 0. 0. 0. 0. 0. 0. 0. 0. 0. 0. 0. 0. 0. 1. 0. 0. 0.\n",
      "  1. 0. 0. 0. 0. 0. 0. 0. 0. 0. 0. 0. 0. 0. 0. 0. 0. 0. 0. 1. 0. 0. 0. 0.\n",
      "  0. 0. 0. 0. 0. 0. 0. 0. 0. 0. 0. 0. 0. 0. 0. 1. 0. 0. 0. 0. 0. 0. 0. 0.\n",
      "  1. 0. 0. 0. 0. 0. 0. 0. 0. 0. 0. 0. 0. 0. 0. 0. 1. 0. 0. 0. 0. 0. 0. 0.\n",
      "  0. 0. 0. 0. 1. 0. 0. 0. 0. 0. 0. 0. 0. 0. 0. 0. 0. 0.]], Predicted=[[0.8869258  0.06663677 0.02041714]\n",
      " [5.7255545  1.9354925  0.23735398]]\n"
     ]
    }
   ],
   "source": [
    "# make a prediction\n",
    "Y_test = model.predict(X_test[2:4])\n",
    "# Y_test = model.predict(X[0:2])\n",
    "\n",
    "# show the inputs and predicted outputs\n",
    "print(\"X=%s, Predicted=%s\" % (X_test[2:4],  Y_test ))"
   ]
  },
  {
   "cell_type": "markdown",
   "metadata": {},
   "source": [
    "### Case 3\n",
    "'사상자수', '중상자수', '경상자수' 예측"
   ]
  },
  {
   "cell_type": "code",
   "execution_count": 34,
   "metadata": {},
   "outputs": [],
   "source": [
    "Y = x_train_num[['사상자수', '중상자수', '경상자수']].values\n",
    "X = x_train_num.drop(columns=['사상자수', '중상자수', '경상자수'])"
   ]
  },
  {
   "cell_type": "code",
   "execution_count": 35,
   "metadata": {},
   "outputs": [],
   "source": [
    "X = pd.concat([X, x_train_cat], axis=1).values"
   ]
  },
  {
   "cell_type": "markdown",
   "metadata": {},
   "source": [
    "Test Data 생성"
   ]
  },
  {
   "cell_type": "code",
   "execution_count": 36,
   "metadata": {},
   "outputs": [],
   "source": [
    "X_test = x_test_num.drop(columns=['사상자수', '중상자수', '경상자수'])\n",
    "X_test = pd.concat([X_test, x_test_cat],axis=1).values"
   ]
  },
  {
   "cell_type": "code",
   "execution_count": 37,
   "metadata": {},
   "outputs": [
    {
     "name": "stdout",
     "output_type": "stream",
     "text": [
      "(25037, 330)\n",
      "(25037, 3)\n"
     ]
    }
   ],
   "source": [
    "print(X.shape)\n",
    "print(Y.shape)"
   ]
  },
  {
   "cell_type": "code",
   "execution_count": 38,
   "metadata": {},
   "outputs": [],
   "source": [
    "num_input = Input(shape=(len(X[0]),), name='num_input')\n",
    "x = Dense(512, activation='relu')(num_input)\n",
    "x = Dropout(0.3)(x)\n",
    "x = Dense(512, activation='relu')(x)\n",
    "x = Dropout(0.3)(x)\n",
    "x = Dense(512, activation='relu')(x)\n",
    "x = Dropout(0.3)(x)\n",
    "x = Dense(512, activation='relu')(x)\n",
    "x = Dropout(0.3)(x)\n",
    "num_output = Dense(len(Y[0]), name='num_output')(x)"
   ]
  },
  {
   "cell_type": "code",
   "execution_count": 39,
   "metadata": {},
   "outputs": [],
   "source": [
    "model = Model(inputs=num_input, outputs=num_output)"
   ]
  },
  {
   "cell_type": "code",
   "execution_count": 40,
   "metadata": {},
   "outputs": [],
   "source": [
    "model.compile(optimizer='sgd',\n",
    "              loss='mse',\n",
    "              metrics=['accuracy'])"
   ]
  },
  {
   "cell_type": "code",
   "execution_count": 41,
   "metadata": {},
   "outputs": [],
   "source": [
    "learning_rate_reduction = ReduceLROnPlateau(monitor='val_acc', \n",
    "                                            patience=25, \n",
    "                                            verbose=1, \n",
    "                                            factor=0.5, \n",
    "                                            min_lr=0.00000001)\n",
    "\n",
    "callbacks = [\n",
    "    learning_rate_reduction, # learning_rate를 점차 감소시킴으로서 최적값에 접근하는 방식\n",
    "                                        # approach to get optimal value by gradually decreasing learning_rate\n",
    "    EarlyStopping('val_loss', patience=10), # val_loss이 최적값에서 멀어지는 순간 epoch가 남아도 학습 중지\n",
    "                                                            # If val_loss deviates from the optimal value, \n",
    "                                                            # learning stops even if epoch remains.\n",
    "    ModelCheckpoint('model.h5', save_best_only=True)] # 모델을 학습시키면서 지금까지 등장했던 최적의 weight들을 항상 저장한다."
   ]
  },
  {
   "cell_type": "code",
   "execution_count": 42,
   "metadata": {},
   "outputs": [
    {
     "name": "stdout",
     "output_type": "stream",
     "text": [
      "Train on 20029 samples, validate on 5008 samples\n",
      "Epoch 1/50\n",
      "20029/20029 [==============================] - 1s 36us/step - loss: 2.1094 - acc: 0.9922 - val_loss: 2.1658 - val_acc: 1.0000\n",
      "Epoch 2/50\n",
      "20029/20029 [==============================] - 1s 28us/step - loss: 1.8946 - acc: 1.0000 - val_loss: 1.8385 - val_acc: 1.0000\n",
      "Epoch 3/50\n",
      "20029/20029 [==============================] - 1s 27us/step - loss: 1.8123 - acc: 1.0000 - val_loss: 1.8323 - val_acc: 1.0000\n",
      "Epoch 4/50\n",
      "20029/20029 [==============================] - 1s 27us/step - loss: 1.7215 - acc: 1.0000 - val_loss: 1.7207 - val_acc: 1.0000\n",
      "Epoch 5/50\n",
      "20029/20029 [==============================] - 1s 27us/step - loss: 1.6523 - acc: 1.0000 - val_loss: 1.7731 - val_acc: 1.0000\n",
      "Epoch 6/50\n",
      "20029/20029 [==============================] - 1s 27us/step - loss: 1.6442 - acc: 1.0000 - val_loss: 1.5930 - val_acc: 1.0000\n",
      "Epoch 7/50\n",
      "20029/20029 [==============================] - 1s 30us/step - loss: 1.5781 - acc: 1.0000 - val_loss: 1.6481 - val_acc: 1.0000\n",
      "Epoch 8/50\n",
      "20029/20029 [==============================] - 1s 28us/step - loss: 1.5597 - acc: 1.0000 - val_loss: 1.6134 - val_acc: 1.0000\n",
      "Epoch 9/50\n",
      "20029/20029 [==============================] - 1s 28us/step - loss: 1.5446 - acc: 1.0000 - val_loss: 1.8727 - val_acc: 1.0000\n",
      "Epoch 10/50\n",
      "20029/20029 [==============================] - 1s 28us/step - loss: 1.4882 - acc: 1.0000 - val_loss: 1.8196 - val_acc: 1.0000\n",
      "Epoch 11/50\n",
      "20029/20029 [==============================] - 1s 28us/step - loss: 1.5271 - acc: 1.0000 - val_loss: 1.9800 - val_acc: 1.0000\n",
      "Epoch 12/50\n",
      "20029/20029 [==============================] - 1s 27us/step - loss: 1.4652 - acc: 1.0000 - val_loss: 1.7815 - val_acc: 1.0000\n",
      "Epoch 13/50\n",
      "20029/20029 [==============================] - 1s 27us/step - loss: 1.4798 - acc: 1.0000 - val_loss: 1.6434 - val_acc: 1.0000\n",
      "Epoch 14/50\n",
      "20029/20029 [==============================] - 1s 29us/step - loss: 1.4136 - acc: 1.0000 - val_loss: 1.7441 - val_acc: 1.0000\n",
      "Epoch 15/50\n",
      "20029/20029 [==============================] - 1s 28us/step - loss: 1.4295 - acc: 1.0000 - val_loss: 1.6968 - val_acc: 1.0000\n",
      "Epoch 16/50\n",
      "20029/20029 [==============================] - 1s 30us/step - loss: 1.4473 - acc: 1.0000 - val_loss: 2.0517 - val_acc: 1.0000\n"
     ]
    }
   ],
   "source": [
    "history = model.fit(X, Y, epochs=50, batch_size=128, callbacks=callbacks,validation_split=0.2 )"
   ]
  },
  {
   "cell_type": "code",
   "execution_count": 43,
   "metadata": {
    "scrolled": true
   },
   "outputs": [
    {
     "name": "stdout",
     "output_type": "stream",
     "text": [
      "X=[[1. 0. 0. 1. 0. 0. 0. 1. 0. 0. 0. 0. 1. 0. 0. 0. 0. 0. 0. 0. 0. 0. 0. 0.\n",
      "  0. 0. 0. 0. 0. 0. 0. 0. 1. 0. 0. 0. 0. 0. 0. 0. 0. 0. 0. 0. 0. 0. 0. 0.\n",
      "  0. 0. 0. 0. 0. 0. 0. 0. 0. 0. 0. 0. 0. 0. 0. 0. 0. 0. 0. 0. 0. 0. 0. 0.\n",
      "  0. 0. 0. 0. 0. 0. 0. 0. 0. 0. 0. 0. 0. 0. 0. 0. 0. 0. 0. 0. 0. 0. 0. 0.\n",
      "  0. 0. 0. 0. 0. 0. 0. 0. 0. 0. 0. 0. 0. 0. 0. 0. 0. 0. 0. 0. 0. 0. 0. 0.\n",
      "  0. 0. 0. 0. 0. 0. 0. 0. 0. 0. 0. 0. 0. 0. 0. 0. 0. 0. 0. 0. 0. 0. 0. 0.\n",
      "  0. 0. 0. 0. 0. 0. 0. 0. 0. 0. 0. 0. 0. 0. 0. 0. 0. 0. 0. 0. 0. 0. 0. 0.\n",
      "  0. 0. 0. 0. 0. 0. 0. 0. 0. 0. 0. 0. 0. 0. 0. 0. 0. 0. 0. 0. 0. 0. 0. 0.\n",
      "  0. 0. 0. 0. 0. 0. 0. 0. 0. 0. 0. 0. 0. 0. 0. 0. 0. 0. 0. 0. 0. 0. 0. 0.\n",
      "  0. 0. 0. 0. 0. 0. 0. 0. 0. 0. 0. 0. 0. 0. 0. 0. 0. 0. 0. 0. 1. 0. 0. 0.\n",
      "  0. 0. 0. 1. 0. 0. 0. 0. 0. 0. 0. 0. 0. 0. 0. 0. 0. 0. 0. 1. 0. 0. 0. 0.\n",
      "  0. 0. 0. 0. 0. 0. 0. 0. 0. 0. 0. 0. 0. 0. 0. 1. 0. 0. 0. 0. 0. 0. 0. 0.\n",
      "  1. 0. 0. 0. 0. 0. 0. 0. 0. 0. 0. 0. 0. 0. 0. 0. 0. 0. 1. 0. 0. 0. 0. 0.\n",
      "  0. 0. 0. 0. 0. 0. 0. 1. 0. 0. 0. 0. 0. 0. 0. 0. 0. 0.]\n",
      " [2. 0. 0. 1. 0. 0. 0. 1. 0. 0. 0. 0. 0. 0. 1. 0. 0. 0. 0. 0. 0. 0. 0. 0.\n",
      "  0. 0. 0. 0. 0. 0. 0. 0. 0. 1. 0. 0. 0. 0. 0. 0. 0. 0. 0. 0. 0. 0. 0. 0.\n",
      "  0. 0. 0. 0. 0. 0. 0. 0. 0. 0. 0. 0. 0. 0. 0. 0. 0. 0. 0. 0. 0. 0. 0. 0.\n",
      "  0. 0. 0. 0. 0. 0. 0. 0. 0. 0. 0. 0. 0. 0. 0. 0. 0. 0. 0. 0. 0. 0. 0. 0.\n",
      "  0. 0. 0. 0. 0. 0. 0. 0. 0. 0. 0. 0. 0. 0. 0. 0. 0. 0. 0. 0. 0. 0. 0. 0.\n",
      "  0. 0. 0. 0. 0. 0. 0. 0. 0. 0. 0. 0. 0. 0. 0. 0. 0. 0. 0. 0. 0. 0. 0. 0.\n",
      "  0. 0. 0. 0. 0. 0. 0. 0. 0. 0. 0. 0. 0. 0. 0. 0. 0. 0. 0. 0. 0. 0. 0. 0.\n",
      "  0. 0. 0. 0. 0. 0. 0. 0. 0. 0. 0. 0. 0. 0. 0. 0. 0. 0. 0. 0. 0. 0. 0. 0.\n",
      "  0. 0. 0. 0. 0. 0. 0. 0. 0. 0. 0. 0. 0. 0. 0. 0. 0. 0. 0. 0. 0. 0. 0. 0.\n",
      "  0. 0. 0. 0. 0. 0. 0. 0. 0. 0. 0. 0. 0. 0. 0. 0. 0. 0. 0. 0. 1. 0. 0. 0.\n",
      "  0. 0. 0. 0. 1. 0. 0. 0. 0. 0. 0. 0. 0. 0. 0. 0. 0. 0. 0. 0. 0. 1. 0. 0.\n",
      "  0. 0. 0. 0. 0. 0. 0. 0. 0. 0. 0. 0. 0. 0. 0. 1. 0. 0. 0. 0. 0. 0. 0. 0.\n",
      "  1. 0. 0. 0. 0. 0. 0. 0. 0. 0. 0. 0. 0. 0. 0. 0. 0. 0. 1. 0. 0. 0. 0. 0.\n",
      "  0. 0. 0. 0. 0. 0. 0. 1. 0. 0. 0. 0. 0. 0. 0. 0. 0. 0.]\n",
      " [1. 0. 1. 0. 0. 0. 0. 0. 1. 0. 0. 0. 0. 0. 0. 1. 0. 0. 0. 0. 0. 0. 0. 0.\n",
      "  0. 0. 0. 0. 0. 0. 0. 0. 0. 0. 1. 0. 0. 0. 0. 0. 0. 0. 0. 0. 0. 0. 0. 0.\n",
      "  0. 0. 0. 0. 0. 0. 0. 0. 0. 0. 0. 0. 0. 0. 0. 0. 0. 0. 0. 0. 0. 0. 0. 0.\n",
      "  0. 0. 0. 0. 0. 0. 0. 0. 0. 0. 0. 0. 0. 0. 0. 0. 0. 0. 0. 0. 0. 0. 0. 0.\n",
      "  0. 0. 0. 0. 0. 0. 0. 0. 0. 0. 0. 0. 0. 0. 0. 0. 0. 0. 0. 0. 0. 0. 0. 0.\n",
      "  0. 0. 0. 0. 0. 0. 0. 0. 0. 0. 0. 0. 0. 0. 0. 0. 0. 0. 0. 0. 0. 0. 0. 0.\n",
      "  0. 0. 0. 0. 0. 0. 0. 0. 0. 0. 0. 0. 0. 0. 0. 0. 0. 0. 0. 0. 0. 0. 0. 0.\n",
      "  0. 0. 0. 0. 0. 0. 0. 0. 0. 0. 0. 0. 0. 0. 0. 0. 0. 0. 0. 0. 0. 0. 0. 0.\n",
      "  0. 0. 0. 0. 0. 0. 0. 0. 0. 0. 0. 0. 0. 0. 0. 0. 0. 0. 0. 0. 0. 0. 0. 0.\n",
      "  0. 0. 0. 0. 0. 0. 0. 0. 0. 0. 0. 0. 0. 0. 0. 0. 0. 0. 0. 0. 1. 0. 0. 0.\n",
      "  0. 0. 0. 0. 1. 0. 0. 0. 0. 0. 0. 0. 0. 0. 0. 0. 0. 0. 0. 0. 0. 0. 1. 0.\n",
      "  0. 0. 0. 0. 0. 0. 0. 0. 0. 0. 0. 0. 0. 0. 0. 1. 0. 0. 0. 0. 0. 0. 0. 0.\n",
      "  1. 0. 0. 0. 0. 0. 0. 0. 0. 0. 0. 0. 0. 0. 0. 0. 0. 0. 0. 1. 0. 0. 0. 0.\n",
      "  0. 0. 0. 0. 0. 0. 0. 1. 0. 0. 0. 0. 0. 0. 0. 0. 0. 0.]], Predicted=[[1.4452763  0.34059936 0.24327429]\n",
      " [1.9304359  0.5187419  0.45005864]\n",
      " [3.2472782  1.0748171  1.0712734 ]]\n"
     ]
    }
   ],
   "source": [
    "# make a prediction\n",
    "Y_test = model.predict(X_test[4:7])\n",
    "\n",
    "# show the inputs and predicted outputs\n",
    "print(\"X=%s, Predicted=%s\" % (X_test[4:7],  Y_test ))"
   ]
  },
  {
   "cell_type": "markdown",
   "metadata": {},
   "source": [
    "### Case 4\n",
    "'사망자수', '사상자수', '중상자수' 예측"
   ]
  },
  {
   "cell_type": "code",
   "execution_count": 67,
   "metadata": {},
   "outputs": [],
   "source": [
    "Y = x_train_num[['사망자수', '중상자수']].values\n",
    "X = x_train_num.drop(columns=['사망자수', '사상자수', '중상자수'])"
   ]
  },
  {
   "cell_type": "code",
   "execution_count": 68,
   "metadata": {},
   "outputs": [],
   "source": [
    "X = pd.concat([X, x_train_cat], axis=1).values"
   ]
  },
  {
   "cell_type": "markdown",
   "metadata": {},
   "source": [
    "Test Data 생성"
   ]
  },
  {
   "cell_type": "code",
   "execution_count": 77,
   "metadata": {},
   "outputs": [],
   "source": [
    "X_test = x_test_num.drop(columns=['사망자수', '사상자수', '중상자수'])\n",
    "X_test = pd.concat([X_test, x_test_cat],axis=1).values"
   ]
  },
  {
   "cell_type": "code",
   "execution_count": 70,
   "metadata": {},
   "outputs": [
    {
     "name": "stdout",
     "output_type": "stream",
     "text": [
      "(25037, 330)\n",
      "(25037, 2)\n"
     ]
    }
   ],
   "source": [
    "print(X.shape)\n",
    "print(Y.shape)"
   ]
  },
  {
   "cell_type": "code",
   "execution_count": 71,
   "metadata": {},
   "outputs": [],
   "source": [
    "num_input = Input(shape=(len(X[0]),), name='num_input')\n",
    "x = Dense(512, activation='relu')(num_input)\n",
    "x = Dropout(0.3)(x)\n",
    "x = Dense(512, activation='relu')(x)\n",
    "x = Dropout(0.3)(x)\n",
    "x = Dense(512, activation='relu')(x)\n",
    "x = Dropout(0.3)(x)\n",
    "x = Dense(256, activation='relu')(x)\n",
    "x = Dropout(0.3)(x)\n",
    "num_output = Dense(len(Y[0]), name='num_output')(x)"
   ]
  },
  {
   "cell_type": "code",
   "execution_count": 72,
   "metadata": {},
   "outputs": [],
   "source": [
    "model = Model(inputs=num_input, outputs=num_output)"
   ]
  },
  {
   "cell_type": "code",
   "execution_count": 73,
   "metadata": {},
   "outputs": [],
   "source": [
    "model.compile(optimizer='adam',\n",
    "              loss='mse',\n",
    "              metrics=['accuracy'])"
   ]
  },
  {
   "cell_type": "code",
   "execution_count": 74,
   "metadata": {},
   "outputs": [],
   "source": [
    "learning_rate_reduction = ReduceLROnPlateau(monitor='val_acc', \n",
    "                                            patience=25, \n",
    "                                            verbose=1, \n",
    "                                            factor=0.5, \n",
    "                                            min_lr=0.00000001)\n",
    "\n",
    "callbacks = [\n",
    "    learning_rate_reduction, # learning_rate를 점차 감소시킴으로서 최적값에 접근하는 방식\n",
    "                                        # approach to get optimal value by gradually decreasing learning_rate\n",
    "    EarlyStopping('val_loss', patience=10), # val_loss이 최적값에서 멀어지는 순간 epoch가 남아도 학습 중지\n",
    "                                                            # If val_loss deviates from the optimal value, \n",
    "                                                            # learning stops even if epoch remains.\n",
    "    ModelCheckpoint('model.h5', save_best_only=True)] # 모델을 학습시키면서 지금까지 등장했던 최적의 weight들을 항상 저장한다."
   ]
  },
  {
   "cell_type": "code",
   "execution_count": 75,
   "metadata": {},
   "outputs": [
    {
     "name": "stdout",
     "output_type": "stream",
     "text": [
      "Train on 20029 samples, validate on 5008 samples\n",
      "Epoch 1/50\n",
      "20029/20029 [==============================] - 1s 52us/step - loss: 0.5541 - acc: 0.9251 - val_loss: 0.5070 - val_acc: 0.9303\n",
      "Epoch 2/50\n",
      "20029/20029 [==============================] - 1s 38us/step - loss: 0.4962 - acc: 0.9276 - val_loss: 0.4655 - val_acc: 0.9139\n",
      "Epoch 3/50\n",
      "20029/20029 [==============================] - 1s 35us/step - loss: 0.4760 - acc: 0.9297 - val_loss: 0.4747 - val_acc: 0.9119\n",
      "Epoch 4/50\n",
      "20029/20029 [==============================] - 1s 35us/step - loss: 0.4676 - acc: 0.9303 - val_loss: 0.4840 - val_acc: 0.9333\n",
      "Epoch 5/50\n",
      "20029/20029 [==============================] - 1s 35us/step - loss: 0.4243 - acc: 0.9336 - val_loss: 0.6673 - val_acc: 0.9247\n",
      "Epoch 6/50\n",
      "20029/20029 [==============================] - 1s 35us/step - loss: 0.4054 - acc: 0.9410 - val_loss: 0.6006 - val_acc: 0.9058\n",
      "Epoch 7/50\n",
      "20029/20029 [==============================] - 1s 38us/step - loss: 0.3551 - acc: 0.9414 - val_loss: 0.6155 - val_acc: 0.9263\n",
      "Epoch 8/50\n",
      "20029/20029 [==============================] - 1s 37us/step - loss: 0.3325 - acc: 0.9459 - val_loss: 0.5355 - val_acc: 0.9341\n",
      "Epoch 9/50\n",
      "20029/20029 [==============================] - 1s 36us/step - loss: 0.3098 - acc: 0.9461 - val_loss: 0.4897 - val_acc: 0.9271\n",
      "Epoch 10/50\n",
      "20029/20029 [==============================] - 1s 35us/step - loss: 0.2716 - acc: 0.9474 - val_loss: 0.5197 - val_acc: 0.9197\n",
      "Epoch 11/50\n",
      "20029/20029 [==============================] - 1s 36us/step - loss: 0.3032 - acc: 0.9491 - val_loss: 0.5370 - val_acc: 0.9353\n",
      "Epoch 12/50\n",
      "20029/20029 [==============================] - 1s 35us/step - loss: 0.2921 - acc: 0.9508 - val_loss: 0.5167 - val_acc: 0.9215\n"
     ]
    }
   ],
   "source": [
    "history = model.fit(X, Y, epochs=50, batch_size=128, callbacks=callbacks,validation_split=0.2 )"
   ]
  },
  {
   "cell_type": "code",
   "execution_count": 78,
   "metadata": {
    "scrolled": true
   },
   "outputs": [
    {
     "name": "stdout",
     "output_type": "stream",
     "text": [
      "X=[[ 5.  0.  0.  1.  0.  1.  0.  0.  0.  0.  0.  0.  0.  0.  0.  1.  0.  0.\n",
      "   0.  0.  0.  0.  0.  0.  0.  0.  0.  0.  0.  0.  0.  0.  0.  0.  0.  1.\n",
      "   0.  0.  0.  0.  0.  0.  0.  0.  0.  0.  0.  0.  0.  0.  0.  0.  0.  0.\n",
      "   0.  0.  0.  0.  0.  0.  0.  0.  0.  0.  0.  0.  0.  0.  0.  0.  0.  0.\n",
      "   0.  0.  0.  0.  0.  0.  0.  0.  0.  0.  0.  0.  0.  0.  0.  0.  0.  0.\n",
      "   0.  0.  0.  0.  0.  0.  0.  0.  0.  0.  0.  0.  0.  0.  0.  0.  0.  0.\n",
      "   0.  0.  0.  0.  0.  0.  0.  0.  0.  0.  0.  0.  0.  0.  0.  0.  0.  0.\n",
      "   0.  0.  0.  0.  0.  0.  0.  0.  0.  0.  0.  0.  0.  0.  0.  0.  0.  0.\n",
      "   0.  0.  0.  0.  0.  0.  0.  0.  0.  0.  0.  0.  0.  0.  0.  0.  0.  0.\n",
      "   0.  0.  0.  0.  0.  0.  0.  0.  0.  0.  0.  0.  0.  0.  0.  0.  0.  0.\n",
      "   0.  0.  0.  0.  0.  0.  0.  0.  0.  0.  0.  0.  0.  0.  0.  0.  0.  0.\n",
      "   0.  0.  0.  0.  0.  0.  0.  0.  0.  0.  0.  0.  0.  0.  0.  0.  0.  0.\n",
      "   0.  0.  0.  0.  0.  0.  0.  0.  0.  0.  0.  0.  0.  0.  0.  0.  0.  0.\n",
      "   0.  0.  1.  0.  0.  0.  0.  0.  0.  0.  1.  0.  0.  0.  0.  0.  0.  0.\n",
      "   0.  0.  0.  0.  0.  0.  0.  0.  0.  1.  0.  0.  0.  0.  0.  0.  0.  0.\n",
      "   0.  0.  0.  0.  0.  0.  0.  0.  0.  1.  0.  0.  0.  0.  0.  0.  0.  0.\n",
      "   1.  0.  0.  0.  0.  0.  0.  0.  0.  0.  0.  0.  0.  0.  0.  0.  1.  0.\n",
      "   0.  0.  0.  0.  0.  0.  0.  0.  0.  0.  0.  0.  0.  0.  1.  0.  0.  0.\n",
      "   0.  0.  0.  0.  0.  0.]\n",
      " [21.  4.  0.  1.  0.  0.  1.  0.  0.  0.  0.  0.  0.  0.  0.  0.  1.  0.\n",
      "   0.  0.  0.  0.  0.  0.  0.  0.  0.  0.  0.  0.  0.  0.  0.  0.  0.  0.\n",
      "   1.  0.  0.  0.  0.  0.  0.  0.  0.  0.  0.  0.  0.  0.  0.  0.  0.  0.\n",
      "   0.  0.  0.  0.  0.  0.  0.  0.  0.  0.  0.  0.  0.  0.  0.  0.  0.  0.\n",
      "   0.  0.  0.  0.  0.  0.  0.  0.  0.  0.  0.  0.  0.  0.  0.  0.  0.  0.\n",
      "   0.  0.  0.  0.  0.  0.  0.  0.  0.  0.  0.  0.  0.  0.  0.  0.  0.  0.\n",
      "   0.  0.  0.  0.  0.  0.  0.  0.  0.  0.  0.  0.  0.  0.  0.  0.  0.  0.\n",
      "   0.  0.  0.  0.  0.  0.  0.  0.  0.  0.  0.  0.  0.  0.  0.  0.  0.  0.\n",
      "   0.  0.  0.  0.  0.  0.  0.  0.  0.  0.  0.  0.  0.  0.  0.  0.  0.  0.\n",
      "   0.  0.  0.  0.  0.  0.  0.  0.  0.  0.  0.  0.  0.  0.  0.  0.  0.  0.\n",
      "   0.  0.  0.  0.  0.  0.  0.  0.  0.  0.  0.  0.  0.  0.  0.  0.  0.  0.\n",
      "   0.  0.  0.  0.  0.  0.  0.  0.  0.  0.  0.  0.  0.  0.  0.  0.  0.  0.\n",
      "   0.  0.  0.  0.  0.  0.  0.  0.  0.  0.  0.  0.  0.  0.  0.  0.  0.  0.\n",
      "   0.  0.  1.  0.  0.  0.  1.  0.  0.  0.  0.  0.  0.  0.  0.  0.  0.  0.\n",
      "   0.  0.  0.  0.  0.  0.  0.  0.  0.  0.  0.  1.  0.  0.  0.  0.  0.  0.\n",
      "   0.  0.  0.  0.  0.  0.  0.  0.  0.  1.  0.  0.  0.  0.  0.  0.  0.  0.\n",
      "   1.  0.  0.  0.  0.  0.  0.  0.  0.  0.  0.  0.  0.  0.  0.  0.  0.  0.\n",
      "   0.  0.  1.  0.  0.  0.  0.  0.  0.  0.  1.  0.  0.  0.  0.  0.  0.  0.\n",
      "   0.  0.  0.  0.  0.  0.]\n",
      " [ 0.  0.  0.  1.  0.  0.  0.  0.  1.  0.  0.  0.  0.  0.  0.  0.  0.  1.\n",
      "   0.  0.  0.  0.  0.  0.  0.  0.  0.  0.  0.  0.  0.  0.  0.  0.  0.  0.\n",
      "   0.  1.  0.  0.  0.  0.  0.  0.  0.  0.  0.  0.  0.  0.  0.  0.  0.  0.\n",
      "   0.  0.  0.  0.  0.  0.  0.  0.  0.  0.  0.  0.  0.  0.  0.  0.  0.  0.\n",
      "   0.  0.  0.  0.  0.  0.  0.  0.  0.  0.  0.  0.  0.  0.  0.  0.  0.  0.\n",
      "   0.  0.  0.  0.  0.  0.  0.  0.  0.  0.  0.  0.  0.  0.  0.  0.  0.  0.\n",
      "   0.  0.  0.  0.  0.  0.  0.  0.  0.  0.  0.  0.  0.  0.  0.  0.  0.  0.\n",
      "   0.  0.  0.  0.  0.  0.  0.  0.  0.  0.  0.  0.  0.  0.  0.  0.  0.  0.\n",
      "   0.  0.  0.  0.  0.  0.  0.  0.  0.  0.  0.  0.  0.  0.  0.  0.  0.  0.\n",
      "   0.  0.  0.  0.  0.  0.  0.  0.  0.  0.  0.  0.  0.  0.  0.  0.  0.  0.\n",
      "   0.  0.  0.  0.  0.  0.  0.  0.  0.  0.  0.  0.  0.  0.  0.  0.  0.  0.\n",
      "   0.  0.  0.  0.  0.  0.  0.  0.  0.  0.  0.  0.  0.  0.  0.  0.  0.  0.\n",
      "   0.  0.  0.  0.  0.  0.  0.  0.  0.  0.  0.  0.  0.  0.  0.  0.  0.  0.\n",
      "   0.  0.  0.  1.  0.  0.  0.  0.  0.  0.  0.  1.  0.  0.  0.  0.  0.  0.\n",
      "   0.  0.  0.  0.  0.  0.  0.  0.  1.  0.  0.  0.  0.  0.  0.  0.  0.  0.\n",
      "   0.  0.  0.  0.  0.  0.  0.  0.  0.  0.  1.  0.  0.  0.  0.  0.  0.  0.\n",
      "   0.  1.  0.  0.  0.  0.  0.  0.  0.  0.  0.  0.  0.  0.  0.  0.  1.  0.\n",
      "   0.  0.  0.  0.  0.  0.  0.  0.  0.  0.  0.  1.  0.  0.  0.  0.  0.  0.\n",
      "   0.  0.  0.  0.  0.  0.]], Predicted=[[1.0862623  0.48115999]\n",
      " [1.2250136  5.3040648 ]\n",
      " [1.0168526  0.04771724]]\n"
     ]
    }
   ],
   "source": [
    "# make a prediction\n",
    "Y_test = model.predict(X_test[7:10])\n",
    "\n",
    "# show the inputs and predicted outputs\n",
    "print(\"X=%s, Predicted=%s\" % (X_test[7:10],  Y_test ))"
   ]
  },
  {
   "cell_type": "code",
   "execution_count": null,
   "metadata": {},
   "outputs": [],
   "source": []
  },
  {
   "cell_type": "code",
   "execution_count": null,
   "metadata": {},
   "outputs": [],
   "source": []
  },
  {
   "cell_type": "code",
   "execution_count": null,
   "metadata": {},
   "outputs": [],
   "source": []
  },
  {
   "cell_type": "code",
   "execution_count": null,
   "metadata": {},
   "outputs": [],
   "source": []
  },
  {
   "cell_type": "code",
   "execution_count": null,
   "metadata": {},
   "outputs": [],
   "source": []
  },
  {
   "cell_type": "code",
   "execution_count": null,
   "metadata": {},
   "outputs": [],
   "source": []
  },
  {
   "cell_type": "code",
   "execution_count": null,
   "metadata": {},
   "outputs": [],
   "source": []
  },
  {
   "cell_type": "code",
   "execution_count": null,
   "metadata": {},
   "outputs": [],
   "source": []
  },
  {
   "cell_type": "code",
   "execution_count": null,
   "metadata": {},
   "outputs": [],
   "source": []
  },
  {
   "cell_type": "code",
   "execution_count": null,
   "metadata": {},
   "outputs": [],
   "source": []
  },
  {
   "cell_type": "code",
   "execution_count": 117,
   "metadata": {},
   "outputs": [
    {
     "data": {
      "text/plain": [
       "array([0, 0, 1, 0, 1, 0, 0, 0, 0, 0, 0, 0, 1, 0, 0, 0, 0, 0, 0, 0, 0, 0,\n",
       "       0, 0, 0, 0, 0, 0, 0, 0, 0, 0, 0, 0, 0, 0, 0, 0, 0, 0, 0, 0, 0, 0,\n",
       "       0, 0, 0, 0, 0, 0, 0, 0, 0, 0, 0, 0, 0, 0, 0, 0, 0, 0, 0, 0, 0, 0,\n",
       "       0, 0, 0, 0, 0, 0, 0, 0, 0, 0, 0, 0, 0, 0, 0, 0, 0, 0, 0, 0, 0, 0,\n",
       "       0, 0, 0, 0, 0, 0, 0, 0, 0, 0, 0, 0, 0, 0, 0, 0, 0, 0, 0, 0, 0, 0,\n",
       "       0, 0, 0, 0, 0, 0, 0, 0, 0, 0, 0, 1, 0, 0, 0, 0, 0, 0, 0, 0, 0, 0,\n",
       "       0, 0, 0, 0, 0, 0, 0, 0, 0, 0, 0, 0, 0, 0, 0, 0, 0, 0, 0, 0, 0, 0,\n",
       "       0, 0, 0, 0, 0, 0, 0, 0, 0, 0, 0, 0, 0, 0, 0, 0, 0, 0, 0, 0, 0, 0,\n",
       "       0, 0, 0, 0, 0, 0, 0, 0, 0, 0, 0, 0, 0, 0, 0, 0, 0, 0, 0, 0, 0, 0,\n",
       "       0, 0, 0, 0, 0, 0, 0, 0, 0, 0, 0, 0, 0, 0, 0, 0, 0, 0, 0, 0, 0, 0,\n",
       "       0, 0, 0, 0, 0, 0, 0, 0, 0, 0, 0, 0, 0, 0, 0, 0, 0, 1, 0, 0, 0, 0,\n",
       "       0, 0, 0, 0, 0, 0, 0, 0, 0, 0, 0, 0, 0, 0, 0, 1, 0, 0, 0, 0, 0, 0,\n",
       "       0, 0, 0, 0, 0, 1, 0, 0, 0, 0, 0, 0, 0, 0, 0, 0, 0, 0, 0, 0, 1, 0,\n",
       "       0, 0, 0, 0, 0, 0, 0, 0, 0, 0, 1, 0, 0, 0, 0, 0, 0, 0, 0, 0, 0, 0,\n",
       "       0, 1, 0, 0, 0, 0, 0, 0, 0, 0, 1, 0, 0, 0, 0, 0, 0, 0, 0, 0, 0, 0])"
      ]
     },
     "execution_count": 117,
     "metadata": {},
     "output_type": "execute_result"
    }
   ],
   "source": [
    "X[0]"
   ]
  },
  {
   "cell_type": "code",
   "execution_count": null,
   "metadata": {},
   "outputs": [],
   "source": []
  },
  {
   "cell_type": "code",
   "execution_count": 524,
   "metadata": {},
   "outputs": [],
   "source": [
    "x_test_cat_data = x_train_cat[25030:25034]\n",
    "x_test_num_data = x_train_num[25030:25034]"
   ]
  },
  {
   "cell_type": "code",
   "execution_count": 463,
   "metadata": {},
   "outputs": [],
   "source": [
    "x_train_cat = x_train_cat[:24960]\n",
    "x_train_cat_data = x_train_cat.reshape(-1,4,11)"
   ]
  },
  {
   "cell_type": "code",
   "execution_count": 464,
   "metadata": {},
   "outputs": [],
   "source": [
    "x_train_num = x_train_num[:24960]\n",
    "x_train_num_data = x_train_num.reshape(-1,4,5)"
   ]
  },
  {
   "cell_type": "code",
   "execution_count": 654,
   "metadata": {
    "scrolled": true
   },
   "outputs": [
    {
     "name": "stdout",
     "output_type": "stream",
     "text": [
      "(6240, 4, 11)\n",
      "(6240, 4, 5)\n"
     ]
    }
   ],
   "source": [
    "print(x_train_cat_data.shape)\n",
    "print(x_train_num_data.shape)"
   ]
  },
  {
   "cell_type": "code",
   "execution_count": 527,
   "metadata": {},
   "outputs": [
    {
     "name": "stdout",
     "output_type": "stream",
     "text": [
      "(1, 6240, 4, 11)\n"
     ]
    }
   ],
   "source": [
    "x_train_cat_data1 = np.expand_dims(x_train_cat_data, axis=0)\n",
    "print(np.expand_dims(x_train_cat_data, axis=0).shape)"
   ]
  },
  {
   "cell_type": "code",
   "execution_count": 429,
   "metadata": {
    "scrolled": true
   },
   "outputs": [
    {
     "data": {
      "text/plain": [
       "array([[ 0,  0,  1, 93,  1, 17, 10,  5,  8,  5,  2],\n",
       "       [ 0,  0, 12, 19,  2, 14, 10,  5,  8,  5,  5],\n",
       "       [ 0,  0, 15, 90,  1, 13, 10,  5,  8,  5,  2],\n",
       "       [ 0,  0,  5, 87,  2, 16, 10,  2,  4,  5, 10]])"
      ]
     },
     "execution_count": 429,
     "metadata": {},
     "output_type": "execute_result"
    }
   ],
   "source": [
    "x_train_cat_data[0]"
   ]
  },
  {
   "cell_type": "code",
   "execution_count": 899,
   "metadata": {},
   "outputs": [
    {
     "name": "stdout",
     "output_type": "stream",
     "text": [
      "(25030, 1, 329)\n"
     ]
    }
   ],
   "source": [
    "x_train_cat = x_train_cat[:25030]\n",
    "x_train_cat1 = np.expand_dims(x_train_cat, axis=1)\n",
    "print(x_train_cat1.shape)"
   ]
  },
  {
   "cell_type": "markdown",
   "metadata": {},
   "source": [
    "## Define Model"
   ]
  },
  {
   "cell_type": "code",
   "execution_count": 529,
   "metadata": {},
   "outputs": [
    {
     "name": "stdout",
     "output_type": "stream",
     "text": [
      "Tensor(\"cat_input_43:0\", shape=(?, 329), dtype=float32)\n",
      "Tensor(\"reshape_1/Reshape:0\", shape=(?, 1, 329), dtype=float32)\n"
     ]
    }
   ],
   "source": [
    "# cat_input = Input(shape=(329,), name='cat_input')\n",
    "# print(cat_input)\n",
    "# x = Reshape((1,329))(cat_input)\n",
    "# print(x)\n",
    "# x = LSTM(64, activation='relu', return_sequences=True)(x)\n",
    "# x = Dropout(0.3)(x)\n",
    "# x = LSTM(64, activation='relu', return_sequences=True)(x)\n",
    "# x = Dropout(0.3)(x)\n",
    "# x = LSTM(64, activation='relu', return_sequences=False)(x)\n",
    "# x = Dropout(0.3)(x)\n",
    "# x = Dense(64, activation='relu')(x)\n",
    "# x = Dropout(0.3)(x)\n",
    "# x = Dense(64, activation='relu')(x)\n",
    "# x = Dropout(0.3)(x)\n",
    "# cat_output = Dense(329, activation='softmax', name='cat_output')(x)"
   ]
  },
  {
   "cell_type": "code",
   "execution_count": 726,
   "metadata": {},
   "outputs": [
    {
     "name": "stdout",
     "output_type": "stream",
     "text": [
      "Tensor(\"concatenate_42/concat:0\", shape=(?, 69), dtype=float32)\n"
     ]
    }
   ],
   "source": [
    "cate_input = Input(shape=(11,), name='cate_input')\n",
    "x = Reshape((1,11))(cate_input)\n",
    "x = LSTM(64, activation='relu')(x)\n",
    "x = Dropout(0.3)(x)\n",
    "x = Dense(64, activation='relu')(x)\n",
    "x = Dropout(0.3)(x)\n",
    "num_input = Input(shape=(5,), name='num_input')\n",
    "x = concatenate([x, num_input])\n",
    "print(x)\n",
    "x = Dense(64, activation='relu')(x)\n",
    "x = Dropout(0.3)(x)\n",
    "cate_output = Dense(11,  activation='relu', name='cate_output')(x)\n",
    "# cate_output = Reshape((4,5),  name='cate_output')(x)"
   ]
  },
  {
   "cell_type": "code",
   "execution_count": 727,
   "metadata": {},
   "outputs": [],
   "source": [
    "model = Model(inputs=[cate_input, num_input], outputs=[cate_output])"
   ]
  },
  {
   "cell_type": "code",
   "execution_count": 728,
   "metadata": {},
   "outputs": [],
   "source": [
    "#categorical_crossentropy\n",
    "model.compile(optimizer='sgd',\n",
    "              loss={'cate_output':'mse'},\n",
    "              metrics=['accuracy'])"
   ]
  },
  {
   "cell_type": "code",
   "execution_count": 729,
   "metadata": {
    "scrolled": true
   },
   "outputs": [
    {
     "name": "stdout",
     "output_type": "stream",
     "text": [
      "Train on 19968 samples, validate on 4992 samples\n",
      "Epoch 1/50\n",
      "19968/19968 [==============================] - 6s 295us/step - loss: 6176.9618 - acc: 0.0015 - val_loss: 1370.4375 - val_acc: 0.0000e+00\n",
      "Epoch 2/50\n",
      "19968/19968 [==============================] - 3s 149us/step - loss: 1362.1600 - acc: 0.0000e+00 - val_loss: 1370.4375 - val_acc: 0.0000e+00\n",
      "Epoch 3/50\n",
      "19968/19968 [==============================] - 3s 147us/step - loss: 1362.1600 - acc: 0.0000e+00 - val_loss: 1370.4375 - val_acc: 0.0000e+00\n",
      "Epoch 4/50\n",
      "19968/19968 [==============================] - 3s 147us/step - loss: 1362.1600 - acc: 0.0000e+00 - val_loss: 1370.4375 - val_acc: 0.0000e+00\n"
     ]
    }
   ],
   "source": [
    "learning_rate_reduction = ReduceLROnPlateau(monitor='val_acc', \n",
    "                                            patience=25, \n",
    "                                            verbose=1, \n",
    "                                            factor=0.5, \n",
    "                                            min_lr=0.00000001)\n",
    "\n",
    "callbacks = [\n",
    "    learning_rate_reduction, # learning_rate를 점차 감소시킴으로서 최적값에 접근하는 방식\n",
    "                                        # approach to get optimal value by gradually decreasing learning_rate\n",
    "    EarlyStopping('val_loss', patience=3), # val_loss이 최적값에서 멀어지는 순간 epoch가 남아도 학습 중지\n",
    "                                                            # If val_loss deviates from the optimal value, \n",
    "                                                            # learning stops even if epoch remains.\n",
    "    ModelCheckpoint('model.h5', save_best_only=True)] # 모델을 학습시키면서 지금까지 등장했던 최적의 weight들을 항상 저장한다.\n",
    "\n",
    "\n",
    "hist = model.fit([x_train_cat, x_train_num], x_train_cat, epochs=50, batch_size=32, verbose=1, callbacks=callbacks, validation_split=0.2,)"
   ]
  },
  {
   "cell_type": "code",
   "execution_count": 719,
   "metadata": {
    "scrolled": true
   },
   "outputs": [
    {
     "name": "stdout",
     "output_type": "stream",
     "text": [
      "[  1   1   1 109   1  17  10   2   5   6   2]\n",
      "[1 8 0 7 0]\n"
     ]
    }
   ],
   "source": [
    "print(x_train_cat[19])\n",
    "print(x_train_num[19])"
   ]
  },
  {
   "cell_type": "code",
   "execution_count": 716,
   "metadata": {},
   "outputs": [
    {
     "name": "stdout",
     "output_type": "stream",
     "text": [
      "<class 'numpy.ndarray'>\n"
     ]
    }
   ],
   "source": [
    "x_value = x_train_cat[20]\n",
    "print(type(x_value))"
   ]
  },
  {
   "cell_type": "code",
   "execution_count": 706,
   "metadata": {
    "scrolled": false
   },
   "outputs": [
    {
     "data": {
      "image/svg+xml": [
       "<svg height=\"802pt\" viewBox=\"0.00 0.00 563.00 802.00\" width=\"563pt\" xmlns=\"http://www.w3.org/2000/svg\" xmlns:xlink=\"http://www.w3.org/1999/xlink\">\n",
       "<g class=\"graph\" id=\"graph0\" transform=\"scale(1 1) rotate(0) translate(4 798)\">\n",
       "<title>G</title>\n",
       "<polygon fill=\"white\" points=\"-4,4 -4,-798 559,-798 559,4 -4,4\" stroke=\"none\"/>\n",
       "<!-- 139682381959520 -->\n",
       "<g class=\"node\" id=\"node1\"><title>139682381959520</title>\n",
       "<polygon fill=\"none\" points=\"0,-747.5 0,-793.5 271,-793.5 271,-747.5 0,-747.5\" stroke=\"black\"/>\n",
       "<text font-family=\"Times,serif\" font-size=\"14.00\" text-anchor=\"middle\" x=\"70\" y=\"-766.8\">cate_input: InputLayer</text>\n",
       "<polyline fill=\"none\" points=\"140,-747.5 140,-793.5 \" stroke=\"black\"/>\n",
       "<text font-family=\"Times,serif\" font-size=\"14.00\" text-anchor=\"middle\" x=\"167.5\" y=\"-778.3\">input:</text>\n",
       "<polyline fill=\"none\" points=\"140,-770.5 195,-770.5 \" stroke=\"black\"/>\n",
       "<text font-family=\"Times,serif\" font-size=\"14.00\" text-anchor=\"middle\" x=\"167.5\" y=\"-755.3\">output:</text>\n",
       "<polyline fill=\"none\" points=\"195,-747.5 195,-793.5 \" stroke=\"black\"/>\n",
       "<text font-family=\"Times,serif\" font-size=\"14.00\" text-anchor=\"middle\" x=\"233\" y=\"-778.3\">(None, 11)</text>\n",
       "<polyline fill=\"none\" points=\"195,-770.5 271,-770.5 \" stroke=\"black\"/>\n",
       "<text font-family=\"Times,serif\" font-size=\"14.00\" text-anchor=\"middle\" x=\"233\" y=\"-755.3\">(None, 11)</text>\n",
       "</g>\n",
       "<!-- 139682381959576 -->\n",
       "<g class=\"node\" id=\"node2\"><title>139682381959576</title>\n",
       "<polygon fill=\"none\" points=\"0.5,-664.5 0.5,-710.5 270.5,-710.5 270.5,-664.5 0.5,-664.5\" stroke=\"black\"/>\n",
       "<text font-family=\"Times,serif\" font-size=\"14.00\" text-anchor=\"middle\" x=\"63\" y=\"-683.8\">reshape_6: Reshape</text>\n",
       "<polyline fill=\"none\" points=\"125.5,-664.5 125.5,-710.5 \" stroke=\"black\"/>\n",
       "<text font-family=\"Times,serif\" font-size=\"14.00\" text-anchor=\"middle\" x=\"153\" y=\"-695.3\">input:</text>\n",
       "<polyline fill=\"none\" points=\"125.5,-687.5 180.5,-687.5 \" stroke=\"black\"/>\n",
       "<text font-family=\"Times,serif\" font-size=\"14.00\" text-anchor=\"middle\" x=\"153\" y=\"-672.3\">output:</text>\n",
       "<polyline fill=\"none\" points=\"180.5,-664.5 180.5,-710.5 \" stroke=\"black\"/>\n",
       "<text font-family=\"Times,serif\" font-size=\"14.00\" text-anchor=\"middle\" x=\"225.5\" y=\"-695.3\">(None, 11)</text>\n",
       "<polyline fill=\"none\" points=\"180.5,-687.5 270.5,-687.5 \" stroke=\"black\"/>\n",
       "<text font-family=\"Times,serif\" font-size=\"14.00\" text-anchor=\"middle\" x=\"225.5\" y=\"-672.3\">(None, 1, 11)</text>\n",
       "</g>\n",
       "<!-- 139682381959520&#45;&gt;139682381959576 -->\n",
       "<g class=\"edge\" id=\"edge1\"><title>139682381959520-&gt;139682381959576</title>\n",
       "<path d=\"M135.5,-747.366C135.5,-739.152 135.5,-729.658 135.5,-720.725\" fill=\"none\" stroke=\"black\"/>\n",
       "<polygon fill=\"black\" points=\"139,-720.607 135.5,-710.607 132,-720.607 139,-720.607\" stroke=\"black\"/>\n",
       "</g>\n",
       "<!-- 139682381959464 -->\n",
       "<g class=\"node\" id=\"node3\"><title>139682381959464</title>\n",
       "<polygon fill=\"none\" points=\"7,-581.5 7,-627.5 264,-627.5 264,-581.5 7,-581.5\" stroke=\"black\"/>\n",
       "<text font-family=\"Times,serif\" font-size=\"14.00\" text-anchor=\"middle\" x=\"63\" y=\"-600.8\">lstm_105: LSTM</text>\n",
       "<polyline fill=\"none\" points=\"119,-581.5 119,-627.5 \" stroke=\"black\"/>\n",
       "<text font-family=\"Times,serif\" font-size=\"14.00\" text-anchor=\"middle\" x=\"146.5\" y=\"-612.3\">input:</text>\n",
       "<polyline fill=\"none\" points=\"119,-604.5 174,-604.5 \" stroke=\"black\"/>\n",
       "<text font-family=\"Times,serif\" font-size=\"14.00\" text-anchor=\"middle\" x=\"146.5\" y=\"-589.3\">output:</text>\n",
       "<polyline fill=\"none\" points=\"174,-581.5 174,-627.5 \" stroke=\"black\"/>\n",
       "<text font-family=\"Times,serif\" font-size=\"14.00\" text-anchor=\"middle\" x=\"219\" y=\"-612.3\">(None, 1, 11)</text>\n",
       "<polyline fill=\"none\" points=\"174,-604.5 264,-604.5 \" stroke=\"black\"/>\n",
       "<text font-family=\"Times,serif\" font-size=\"14.00\" text-anchor=\"middle\" x=\"219\" y=\"-589.3\">(None, 64)</text>\n",
       "</g>\n",
       "<!-- 139682381959576&#45;&gt;139682381959464 -->\n",
       "<g class=\"edge\" id=\"edge2\"><title>139682381959576-&gt;139682381959464</title>\n",
       "<path d=\"M135.5,-664.366C135.5,-656.152 135.5,-646.658 135.5,-637.725\" fill=\"none\" stroke=\"black\"/>\n",
       "<polygon fill=\"black\" points=\"139,-637.607 135.5,-627.607 132,-637.607 139,-637.607\" stroke=\"black\"/>\n",
       "</g>\n",
       "<!-- 139682381959744 -->\n",
       "<g class=\"node\" id=\"node4\"><title>139682381959744</title>\n",
       "<polygon fill=\"none\" points=\"1,-498.5 1,-544.5 270,-544.5 270,-498.5 1,-498.5\" stroke=\"black\"/>\n",
       "<text font-family=\"Times,serif\" font-size=\"14.00\" text-anchor=\"middle\" x=\"70\" y=\"-517.8\">dropout_247: Dropout</text>\n",
       "<polyline fill=\"none\" points=\"139,-498.5 139,-544.5 \" stroke=\"black\"/>\n",
       "<text font-family=\"Times,serif\" font-size=\"14.00\" text-anchor=\"middle\" x=\"166.5\" y=\"-529.3\">input:</text>\n",
       "<polyline fill=\"none\" points=\"139,-521.5 194,-521.5 \" stroke=\"black\"/>\n",
       "<text font-family=\"Times,serif\" font-size=\"14.00\" text-anchor=\"middle\" x=\"166.5\" y=\"-506.3\">output:</text>\n",
       "<polyline fill=\"none\" points=\"194,-498.5 194,-544.5 \" stroke=\"black\"/>\n",
       "<text font-family=\"Times,serif\" font-size=\"14.00\" text-anchor=\"middle\" x=\"232\" y=\"-529.3\">(None, 64)</text>\n",
       "<polyline fill=\"none\" points=\"194,-521.5 270,-521.5 \" stroke=\"black\"/>\n",
       "<text font-family=\"Times,serif\" font-size=\"14.00\" text-anchor=\"middle\" x=\"232\" y=\"-506.3\">(None, 64)</text>\n",
       "</g>\n",
       "<!-- 139682381959464&#45;&gt;139682381959744 -->\n",
       "<g class=\"edge\" id=\"edge3\"><title>139682381959464-&gt;139682381959744</title>\n",
       "<path d=\"M135.5,-581.366C135.5,-573.152 135.5,-563.658 135.5,-554.725\" fill=\"none\" stroke=\"black\"/>\n",
       "<polygon fill=\"black\" points=\"139,-554.607 135.5,-544.607 132,-554.607 139,-554.607\" stroke=\"black\"/>\n",
       "</g>\n",
       "<!-- 139682381960136 -->\n",
       "<g class=\"node\" id=\"node5\"><title>139682381960136</title>\n",
       "<polygon fill=\"none\" points=\"12,-415.5 12,-461.5 259,-461.5 259,-415.5 12,-415.5\" stroke=\"black\"/>\n",
       "<text font-family=\"Times,serif\" font-size=\"14.00\" text-anchor=\"middle\" x=\"70\" y=\"-434.8\">dense_201: Dense</text>\n",
       "<polyline fill=\"none\" points=\"128,-415.5 128,-461.5 \" stroke=\"black\"/>\n",
       "<text font-family=\"Times,serif\" font-size=\"14.00\" text-anchor=\"middle\" x=\"155.5\" y=\"-446.3\">input:</text>\n",
       "<polyline fill=\"none\" points=\"128,-438.5 183,-438.5 \" stroke=\"black\"/>\n",
       "<text font-family=\"Times,serif\" font-size=\"14.00\" text-anchor=\"middle\" x=\"155.5\" y=\"-423.3\">output:</text>\n",
       "<polyline fill=\"none\" points=\"183,-415.5 183,-461.5 \" stroke=\"black\"/>\n",
       "<text font-family=\"Times,serif\" font-size=\"14.00\" text-anchor=\"middle\" x=\"221\" y=\"-446.3\">(None, 64)</text>\n",
       "<polyline fill=\"none\" points=\"183,-438.5 259,-438.5 \" stroke=\"black\"/>\n",
       "<text font-family=\"Times,serif\" font-size=\"14.00\" text-anchor=\"middle\" x=\"221\" y=\"-423.3\">(None, 64)</text>\n",
       "</g>\n",
       "<!-- 139682381959744&#45;&gt;139682381960136 -->\n",
       "<g class=\"edge\" id=\"edge4\"><title>139682381959744-&gt;139682381960136</title>\n",
       "<path d=\"M135.5,-498.366C135.5,-490.152 135.5,-480.658 135.5,-471.725\" fill=\"none\" stroke=\"black\"/>\n",
       "<polygon fill=\"black\" points=\"139,-471.607 135.5,-461.607 132,-471.607 139,-471.607\" stroke=\"black\"/>\n",
       "</g>\n",
       "<!-- 139682381961592 -->\n",
       "<g class=\"node\" id=\"node6\"><title>139682381961592</title>\n",
       "<polygon fill=\"none\" points=\"1,-332.5 1,-378.5 270,-378.5 270,-332.5 1,-332.5\" stroke=\"black\"/>\n",
       "<text font-family=\"Times,serif\" font-size=\"14.00\" text-anchor=\"middle\" x=\"70\" y=\"-351.8\">dropout_248: Dropout</text>\n",
       "<polyline fill=\"none\" points=\"139,-332.5 139,-378.5 \" stroke=\"black\"/>\n",
       "<text font-family=\"Times,serif\" font-size=\"14.00\" text-anchor=\"middle\" x=\"166.5\" y=\"-363.3\">input:</text>\n",
       "<polyline fill=\"none\" points=\"139,-355.5 194,-355.5 \" stroke=\"black\"/>\n",
       "<text font-family=\"Times,serif\" font-size=\"14.00\" text-anchor=\"middle\" x=\"166.5\" y=\"-340.3\">output:</text>\n",
       "<polyline fill=\"none\" points=\"194,-332.5 194,-378.5 \" stroke=\"black\"/>\n",
       "<text font-family=\"Times,serif\" font-size=\"14.00\" text-anchor=\"middle\" x=\"232\" y=\"-363.3\">(None, 64)</text>\n",
       "<polyline fill=\"none\" points=\"194,-355.5 270,-355.5 \" stroke=\"black\"/>\n",
       "<text font-family=\"Times,serif\" font-size=\"14.00\" text-anchor=\"middle\" x=\"232\" y=\"-340.3\">(None, 64)</text>\n",
       "</g>\n",
       "<!-- 139682381960136&#45;&gt;139682381961592 -->\n",
       "<g class=\"edge\" id=\"edge5\"><title>139682381960136-&gt;139682381961592</title>\n",
       "<path d=\"M135.5,-415.366C135.5,-407.152 135.5,-397.658 135.5,-388.725\" fill=\"none\" stroke=\"black\"/>\n",
       "<polygon fill=\"black\" points=\"139,-388.607 135.5,-378.607 132,-388.607 139,-388.607\" stroke=\"black\"/>\n",
       "</g>\n",
       "<!-- 139682379947592 -->\n",
       "<g class=\"node\" id=\"node8\"><title>139682379947592</title>\n",
       "<polygon fill=\"none\" points=\"91,-249.5 91,-295.5 466,-295.5 466,-249.5 91,-249.5\" stroke=\"black\"/>\n",
       "<text font-family=\"Times,serif\" font-size=\"14.00\" text-anchor=\"middle\" x=\"178.5\" y=\"-268.8\">concatenate_41: Concatenate</text>\n",
       "<polyline fill=\"none\" points=\"266,-249.5 266,-295.5 \" stroke=\"black\"/>\n",
       "<text font-family=\"Times,serif\" font-size=\"14.00\" text-anchor=\"middle\" x=\"293.5\" y=\"-280.3\">input:</text>\n",
       "<polyline fill=\"none\" points=\"266,-272.5 321,-272.5 \" stroke=\"black\"/>\n",
       "<text font-family=\"Times,serif\" font-size=\"14.00\" text-anchor=\"middle\" x=\"293.5\" y=\"-257.3\">output:</text>\n",
       "<polyline fill=\"none\" points=\"321,-249.5 321,-295.5 \" stroke=\"black\"/>\n",
       "<text font-family=\"Times,serif\" font-size=\"14.00\" text-anchor=\"middle\" x=\"393.5\" y=\"-280.3\">[(None, 64), (None, 5)]</text>\n",
       "<polyline fill=\"none\" points=\"321,-272.5 466,-272.5 \" stroke=\"black\"/>\n",
       "<text font-family=\"Times,serif\" font-size=\"14.00\" text-anchor=\"middle\" x=\"393.5\" y=\"-257.3\">(None, 69)</text>\n",
       "</g>\n",
       "<!-- 139682381961592&#45;&gt;139682379947592 -->\n",
       "<g class=\"edge\" id=\"edge6\"><title>139682381961592-&gt;139682379947592</title>\n",
       "<path d=\"M174.575,-332.366C191.915,-322.544 212.483,-310.894 230.727,-300.56\" fill=\"none\" stroke=\"black\"/>\n",
       "<polygon fill=\"black\" points=\"232.496,-303.581 239.472,-295.607 229.046,-297.49 232.496,-303.581\" stroke=\"black\"/>\n",
       "</g>\n",
       "<!-- 139682379831728 -->\n",
       "<g class=\"node\" id=\"node7\"><title>139682379831728</title>\n",
       "<polygon fill=\"none\" points=\"288,-332.5 288,-378.5 555,-378.5 555,-332.5 288,-332.5\" stroke=\"black\"/>\n",
       "<text font-family=\"Times,serif\" font-size=\"14.00\" text-anchor=\"middle\" x=\"359.5\" y=\"-351.8\">num_input: InputLayer</text>\n",
       "<polyline fill=\"none\" points=\"431,-332.5 431,-378.5 \" stroke=\"black\"/>\n",
       "<text font-family=\"Times,serif\" font-size=\"14.00\" text-anchor=\"middle\" x=\"458.5\" y=\"-363.3\">input:</text>\n",
       "<polyline fill=\"none\" points=\"431,-355.5 486,-355.5 \" stroke=\"black\"/>\n",
       "<text font-family=\"Times,serif\" font-size=\"14.00\" text-anchor=\"middle\" x=\"458.5\" y=\"-340.3\">output:</text>\n",
       "<polyline fill=\"none\" points=\"486,-332.5 486,-378.5 \" stroke=\"black\"/>\n",
       "<text font-family=\"Times,serif\" font-size=\"14.00\" text-anchor=\"middle\" x=\"520.5\" y=\"-363.3\">(None, 5)</text>\n",
       "<polyline fill=\"none\" points=\"486,-355.5 555,-355.5 \" stroke=\"black\"/>\n",
       "<text font-family=\"Times,serif\" font-size=\"14.00\" text-anchor=\"middle\" x=\"520.5\" y=\"-340.3\">(None, 5)</text>\n",
       "</g>\n",
       "<!-- 139682379831728&#45;&gt;139682379947592 -->\n",
       "<g class=\"edge\" id=\"edge7\"><title>139682379831728-&gt;139682379947592</title>\n",
       "<path d=\"M382.425,-332.366C365.085,-322.544 344.517,-310.894 326.273,-300.56\" fill=\"none\" stroke=\"black\"/>\n",
       "<polygon fill=\"black\" points=\"327.954,-297.49 317.528,-295.607 324.504,-303.581 327.954,-297.49\" stroke=\"black\"/>\n",
       "</g>\n",
       "<!-- 139682379612736 -->\n",
       "<g class=\"node\" id=\"node9\"><title>139682379612736</title>\n",
       "<polygon fill=\"none\" points=\"155,-166.5 155,-212.5 402,-212.5 402,-166.5 155,-166.5\" stroke=\"black\"/>\n",
       "<text font-family=\"Times,serif\" font-size=\"14.00\" text-anchor=\"middle\" x=\"213\" y=\"-185.8\">dense_202: Dense</text>\n",
       "<polyline fill=\"none\" points=\"271,-166.5 271,-212.5 \" stroke=\"black\"/>\n",
       "<text font-family=\"Times,serif\" font-size=\"14.00\" text-anchor=\"middle\" x=\"298.5\" y=\"-197.3\">input:</text>\n",
       "<polyline fill=\"none\" points=\"271,-189.5 326,-189.5 \" stroke=\"black\"/>\n",
       "<text font-family=\"Times,serif\" font-size=\"14.00\" text-anchor=\"middle\" x=\"298.5\" y=\"-174.3\">output:</text>\n",
       "<polyline fill=\"none\" points=\"326,-166.5 326,-212.5 \" stroke=\"black\"/>\n",
       "<text font-family=\"Times,serif\" font-size=\"14.00\" text-anchor=\"middle\" x=\"364\" y=\"-197.3\">(None, 69)</text>\n",
       "<polyline fill=\"none\" points=\"326,-189.5 402,-189.5 \" stroke=\"black\"/>\n",
       "<text font-family=\"Times,serif\" font-size=\"14.00\" text-anchor=\"middle\" x=\"364\" y=\"-174.3\">(None, 64)</text>\n",
       "</g>\n",
       "<!-- 139682379947592&#45;&gt;139682379612736 -->\n",
       "<g class=\"edge\" id=\"edge8\"><title>139682379947592-&gt;139682379612736</title>\n",
       "<path d=\"M278.5,-249.366C278.5,-241.152 278.5,-231.658 278.5,-222.725\" fill=\"none\" stroke=\"black\"/>\n",
       "<polygon fill=\"black\" points=\"282,-222.607 278.5,-212.607 275,-222.607 282,-222.607\" stroke=\"black\"/>\n",
       "</g>\n",
       "<!-- 139682379613352 -->\n",
       "<g class=\"node\" id=\"node10\"><title>139682379613352</title>\n",
       "<polygon fill=\"none\" points=\"144,-83.5 144,-129.5 413,-129.5 413,-83.5 144,-83.5\" stroke=\"black\"/>\n",
       "<text font-family=\"Times,serif\" font-size=\"14.00\" text-anchor=\"middle\" x=\"213\" y=\"-102.8\">dropout_249: Dropout</text>\n",
       "<polyline fill=\"none\" points=\"282,-83.5 282,-129.5 \" stroke=\"black\"/>\n",
       "<text font-family=\"Times,serif\" font-size=\"14.00\" text-anchor=\"middle\" x=\"309.5\" y=\"-114.3\">input:</text>\n",
       "<polyline fill=\"none\" points=\"282,-106.5 337,-106.5 \" stroke=\"black\"/>\n",
       "<text font-family=\"Times,serif\" font-size=\"14.00\" text-anchor=\"middle\" x=\"309.5\" y=\"-91.3\">output:</text>\n",
       "<polyline fill=\"none\" points=\"337,-83.5 337,-129.5 \" stroke=\"black\"/>\n",
       "<text font-family=\"Times,serif\" font-size=\"14.00\" text-anchor=\"middle\" x=\"375\" y=\"-114.3\">(None, 64)</text>\n",
       "<polyline fill=\"none\" points=\"337,-106.5 413,-106.5 \" stroke=\"black\"/>\n",
       "<text font-family=\"Times,serif\" font-size=\"14.00\" text-anchor=\"middle\" x=\"375\" y=\"-91.3\">(None, 64)</text>\n",
       "</g>\n",
       "<!-- 139682379612736&#45;&gt;139682379613352 -->\n",
       "<g class=\"edge\" id=\"edge9\"><title>139682379612736-&gt;139682379613352</title>\n",
       "<path d=\"M278.5,-166.366C278.5,-158.152 278.5,-148.658 278.5,-139.725\" fill=\"none\" stroke=\"black\"/>\n",
       "<polygon fill=\"black\" points=\"282,-139.607 278.5,-129.607 275,-139.607 282,-139.607\" stroke=\"black\"/>\n",
       "</g>\n",
       "<!-- 139682379275400 -->\n",
       "<g class=\"node\" id=\"node11\"><title>139682379275400</title>\n",
       "<polygon fill=\"none\" points=\"152.5,-0.5 152.5,-46.5 404.5,-46.5 404.5,-0.5 152.5,-0.5\" stroke=\"black\"/>\n",
       "<text font-family=\"Times,serif\" font-size=\"14.00\" text-anchor=\"middle\" x=\"213\" y=\"-19.8\">cate_output: Dense</text>\n",
       "<polyline fill=\"none\" points=\"273.5,-0.5 273.5,-46.5 \" stroke=\"black\"/>\n",
       "<text font-family=\"Times,serif\" font-size=\"14.00\" text-anchor=\"middle\" x=\"301\" y=\"-31.3\">input:</text>\n",
       "<polyline fill=\"none\" points=\"273.5,-23.5 328.5,-23.5 \" stroke=\"black\"/>\n",
       "<text font-family=\"Times,serif\" font-size=\"14.00\" text-anchor=\"middle\" x=\"301\" y=\"-8.3\">output:</text>\n",
       "<polyline fill=\"none\" points=\"328.5,-0.5 328.5,-46.5 \" stroke=\"black\"/>\n",
       "<text font-family=\"Times,serif\" font-size=\"14.00\" text-anchor=\"middle\" x=\"366.5\" y=\"-31.3\">(None, 64)</text>\n",
       "<polyline fill=\"none\" points=\"328.5,-23.5 404.5,-23.5 \" stroke=\"black\"/>\n",
       "<text font-family=\"Times,serif\" font-size=\"14.00\" text-anchor=\"middle\" x=\"366.5\" y=\"-8.3\">(None, 5)</text>\n",
       "</g>\n",
       "<!-- 139682379613352&#45;&gt;139682379275400 -->\n",
       "<g class=\"edge\" id=\"edge10\"><title>139682379613352-&gt;139682379275400</title>\n",
       "<path d=\"M278.5,-83.3664C278.5,-75.1516 278.5,-65.6579 278.5,-56.7252\" fill=\"none\" stroke=\"black\"/>\n",
       "<polygon fill=\"black\" points=\"282,-56.6068 278.5,-46.6068 275,-56.6069 282,-56.6068\" stroke=\"black\"/>\n",
       "</g>\n",
       "</g>\n",
       "</svg>"
      ],
      "text/plain": [
       "<IPython.core.display.SVG object>"
      ]
     },
     "execution_count": 706,
     "metadata": {},
     "output_type": "execute_result"
    }
   ],
   "source": [
    "from IPython.display import SVG\n",
    "from keras.utils.vis_utils import model_to_dot\n",
    "\n",
    "%matplotlib inline\n",
    "\n",
    "SVG(model_to_dot(model, show_shapes=True).create(prog='dot', format='svg'))"
   ]
  },
  {
   "cell_type": "code",
   "execution_count": 721,
   "metadata": {
    "scrolled": false
   },
   "outputs": [
    {
     "name": "stdout",
     "output_type": "stream",
     "text": [
      "X=[1 8 0 7 0], Predicted=[[0.86509156 7.7890024  0.33240092 6.5731373  0.        ]]\n"
     ]
    }
   ],
   "source": [
    "Xnew2 = np.array([x_train_cat[19]])\n",
    "\n",
    "Xnew1 = np.array([x_train_num[19]])\n",
    "\n",
    "\n",
    "# make a prediction\n",
    "ynew = model.predict({'cate_input':Xnew2,'num_input':Xnew1})\n",
    "\n",
    "# show the inputs and predicted outputs\n",
    "print(\"X=%s, Predicted=%s\" % (Xnew1[0],  ynew ))"
   ]
  },
  {
   "cell_type": "markdown",
   "metadata": {},
   "source": [
    "## 예전에 사용한 모델 데이터들"
   ]
  },
  {
   "cell_type": "code",
   "execution_count": 259,
   "metadata": {},
   "outputs": [],
   "source": [
    "model = Model(inputs=[num_input, cat_input], outputs=[num_output, cat_output])"
   ]
  },
  {
   "cell_type": "code",
   "execution_count": 260,
   "metadata": {},
   "outputs": [],
   "source": [
    "model.compile(optimizer='rmsprop',\n",
    "              loss={'num_output':'mse', 'cat_output':'categorical_crossentropy'},\n",
    "              metrics=['accuracy'])"
   ]
  },
  {
   "cell_type": "code",
   "execution_count": 261,
   "metadata": {
    "scrolled": true
   },
   "outputs": [
    {
     "name": "stdout",
     "output_type": "stream",
     "text": [
      "Train on 22533 samples, validate on 2504 samples\n",
      "Epoch 1/50\n",
      "22533/22533 [==============================] - 1s 64us/step - loss: 399.6520 - num_output_loss: 0.2217 - cat_output_loss: 399.4303 - num_output_acc: 0.6617 - cat_output_acc: 0.9598 - val_loss: 380.0138 - val_num_output_loss: 0.0705 - val_cat_output_loss: 379.9433 - val_num_output_acc: 1.0000 - val_cat_output_acc: 0.9800\n"
     ]
    },
    {
     "name": "stderr",
     "output_type": "stream",
     "text": [
      "/usr/local/lib/python3.5/dist-packages/keras/callbacks.py:1043: RuntimeWarning: Reduce LR on plateau conditioned on metric `val_acc` which is not available. Available metrics are: loss,val_cat_output_acc,num_output_loss,cat_output_loss,val_loss,val_cat_output_loss,val_num_output_loss,lr,cat_output_acc,val_num_output_acc,num_output_acc\n",
      "  (self.monitor, ','.join(list(logs.keys()))), RuntimeWarning\n"
     ]
    },
    {
     "name": "stdout",
     "output_type": "stream",
     "text": [
      "Epoch 2/50\n",
      "22533/22533 [==============================] - 1s 49us/step - loss: 347.3038 - num_output_loss: 0.0906 - cat_output_loss: 347.2132 - num_output_acc: 0.6040 - cat_output_acc: 0.9814 - val_loss: 341.4980 - val_num_output_loss: 0.1200 - val_cat_output_loss: 341.3780 - val_num_output_acc: 1.0000 - val_cat_output_acc: 0.9800\n",
      "Epoch 3/50\n",
      "22533/22533 [==============================] - 1s 52us/step - loss: 329.4858 - num_output_loss: 0.0844 - cat_output_loss: 329.4014 - num_output_acc: 0.7987 - cat_output_acc: 0.9824 - val_loss: 332.0796 - val_num_output_loss: 0.0784 - val_cat_output_loss: 332.0012 - val_num_output_acc: 0.2716 - val_cat_output_acc: 0.9856\n",
      "Epoch 4/50\n",
      "22533/22533 [==============================] - 1s 51us/step - loss: 315.3419 - num_output_loss: 0.0825 - cat_output_loss: 315.2594 - num_output_acc: 0.8714 - cat_output_acc: 0.9835 - val_loss: 312.8341 - val_num_output_loss: 0.3030 - val_cat_output_loss: 312.5311 - val_num_output_acc: 0.2716 - val_cat_output_acc: 0.9768\n",
      "Epoch 5/50\n",
      "22533/22533 [==============================] - 1s 54us/step - loss: 307.5188 - num_output_loss: 0.0822 - cat_output_loss: 307.4366 - num_output_acc: 0.8217 - cat_output_acc: 0.9856 - val_loss: 310.0818 - val_num_output_loss: 0.0830 - val_cat_output_loss: 309.9988 - val_num_output_acc: 1.0000 - val_cat_output_acc: 0.9892\n",
      "Epoch 6/50\n",
      "22533/22533 [==============================] - 1s 52us/step - loss: 307.2955 - num_output_loss: 0.0713 - cat_output_loss: 307.2241 - num_output_acc: 0.8170 - cat_output_acc: 0.9883 - val_loss: 310.3566 - val_num_output_loss: 0.0720 - val_cat_output_loss: 310.2846 - val_num_output_acc: 1.0000 - val_cat_output_acc: 0.9896\n",
      "Epoch 7/50\n",
      "22533/22533 [==============================] - 1s 51us/step - loss: 307.2266 - num_output_loss: 0.0718 - cat_output_loss: 307.1547 - num_output_acc: 0.8099 - cat_output_acc: 0.9874 - val_loss: 310.3042 - val_num_output_loss: 0.1615 - val_cat_output_loss: 310.1427 - val_num_output_acc: 0.2716 - val_cat_output_acc: 0.9808\n",
      "Epoch 8/50\n",
      "22533/22533 [==============================] - 1s 50us/step - loss: 307.0962 - num_output_loss: 0.0722 - cat_output_loss: 307.0240 - num_output_acc: 0.7730 - cat_output_acc: 0.9876 - val_loss: 310.4889 - val_num_output_loss: 0.0804 - val_cat_output_loss: 310.4084 - val_num_output_acc: 1.0000 - val_cat_output_acc: 0.9912\n"
     ]
    }
   ],
   "source": [
    "learning_rate_reduction = ReduceLROnPlateau(monitor='val_acc', \n",
    "                                            patience=2, \n",
    "                                            verbose=1, \n",
    "                                            factor=0.5, \n",
    "                                            min_lr=0.00000001)\n",
    "\n",
    "callbacks = [\n",
    "    learning_rate_reduction, # learning_rate를 점차 감소시킴으로서 최적값에 접근하는 방식\n",
    "                                        # approach to get optimal value by gradually decreasing learning_rate\n",
    "    EarlyStopping('val_loss', patience=3), # val_loss이 최적값에서 멀어지는 순간 epoch가 남아도 학습 중지\n",
    "                                                            # If val_loss deviates from the optimal value, \n",
    "                                                            # learning stops even if epoch remains.\n",
    "    ModelCheckpoint('model.h5', save_best_only=True)] # 모델을 학습시키면서 지금까지 등장했던 최적의 weight들을 항상 저장한다.\n",
    "\n",
    "\n",
    "hist = model.fit({'num_input':x_train_num, 'cat_input':x_train_cat}, {'num_output': y_train_num, 'cat_output':x_train_cat}, epochs=50, batch_size=64, callbacks=callbacks, validation_split=0.1,)"
   ]
  },
  {
   "cell_type": "code",
   "execution_count": 262,
   "metadata": {
    "scrolled": true
   },
   "outputs": [
    {
     "name": "stdout",
     "output_type": "stream",
     "text": [
      "25037/25037 [==============================] - 1s 39us/step\n",
      "[307.81578775862897, 0.07099316146763511, 307.74479453636155, 1.0, 0.990094659903343]\n",
      "307.81578775862897\n",
      "7.099316146763511\n"
     ]
    }
   ],
   "source": [
    "loss_and_metrics = model.evaluate({'num_input':x_train_num, 'cat_input':x_train_cat}, {'num_output': y_train_num, 'cat_output':x_train_cat}, batch_size=32)\n",
    "print(loss_and_metrics)\n",
    "print(loss_and_metrics[0])\n",
    "print(loss_and_metrics[1] * 100)"
   ]
  },
  {
   "cell_type": "code",
   "execution_count": 723,
   "metadata": {},
   "outputs": [
    {
     "data": {
      "image/png": "[encoded data removed]",
      "text/plain": [
       "<Figure size 432x288 with 1 Axes>"
      ]
     },
     "metadata": {},
     "output_type": "display_data"
    }
   ],
   "source": [
    "%matplotlib inline\n",
    "import matplotlib.pyplot as plt\n",
    "\n",
    "plt.plot(hist.history['loss'])\n",
    "plt.ylim(0.0, 0.5)\n",
    "plt.ylabel('loss')\n",
    "plt.xlabel('epoch')\n",
    "plt.legend(['train'], loc='upper right')\n",
    "plt.show()"
   ]
  },
  {
   "cell_type": "code",
   "execution_count": null,
   "metadata": {},
   "outputs": [],
   "source": []
  }
 ],
 "metadata": {
  "kernelspec": {
   "display_name": "Python 3",
   "language": "python",
   "name": "python3"
  },
  "language_info": {
   "codemirror_mode": {
    "name": "ipython",
    "version": 3
   },
   "file_extension": ".py",
   "mimetype": "text/x-python",
   "name": "python",
   "nbconvert_exporter": "python",
   "pygments_lexer": "ipython3",
   "version": "3.5.2"
  }
 },
 "nbformat": 4,
 "nbformat_minor": 2
}
